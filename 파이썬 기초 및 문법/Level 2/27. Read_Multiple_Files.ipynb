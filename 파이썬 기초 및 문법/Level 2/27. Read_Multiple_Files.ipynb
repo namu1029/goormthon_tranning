{
  "cells": [
    {
      "cell_type": "markdown",
      "id": "c3a88b92",
      "metadata": {
        "id": "c3a88b92"
      },
      "source": [
        "***\n",
        "## 27. 멀티 파일 읽기 (Read Multiple Files) 💻\n",
        "***\n",
        "#### **`연습예제`**"
      ]
    },
    {
      "cell_type": "markdown",
      "id": "49b428ae",
      "metadata": {
        "id": "49b428ae"
      },
      "source": [
        "**`/source/27-1/`** `경로에` **`모든 텍스트 파일(txt)`** `을` **`읽은 후`** **`리스트`** `로 출력하세요.` **`*아래 조건 참조*`**\n",
        "\n",
        "\n",
        "```python\n",
        "# 아래 조건 참조\n",
        "\n",
        "파일명 & 경로 = \"../source/27-1/*.txt\"\n",
        "\n",
        "출력 = ['Python', 'JavaScript', 'PHP', 'Rust', 'elite', 'Solidity', 'Assembly', 'hamster', 'india', 'january', 'kibana', 'lamada', 'monster', 'notion', 'orange', 'pokemon', 'query', 'range', 'sonic', 'telegram', 'urban', 'village', 'world', 'x-ray', 'yellow', 'zigzag']\n",
        "```"
      ]
    },
    {
      "cell_type": "markdown",
      "id": "44d53430",
      "metadata": {
        "id": "44d53430"
      },
      "source": [
        "#### **`코딩영역`**"
      ]
    },
    {
      "cell_type": "code",
      "execution_count": null,
      "id": "8f8ac30f",
      "metadata": {
        "id": "8f8ac30f",
        "outputId": "729b3b20-4a0f-42ff-c7e6-2c87fa04aef2"
      },
      "outputs": [
        {
          "name": "stdout",
          "output_type": "stream",
          "text": [
            "['Python', 'JavaScript', 'PHP', 'Rust', 'elite', 'Solidity', 'Assembly', 'hamster', 'india', 'january', 'kibana', 'lamada', 'monster', 'notion', 'orange', 'pokemon', 'query', 'range', 'sonic', 'telegram', 'urban', 'village', 'world', 'x-ray', 'yellow', 'zigzag']\n",
            "\n",
            "['Python', 'JavaScript', 'PHP', 'Rust', 'elite', 'Solidity', 'Assembly', 'hamster', 'india', 'january', 'kibana', 'lamada', 'monster', 'notion', 'orange', 'pokemon', 'query', 'range', 'sonic', 'telegram', 'urban', 'village', 'world', 'x-ray', 'yellow', 'zigzag']\n"
          ]
        }
      ],
      "source": [
        "# 27.Read Multiple Files\n",
        "\n",
        "import os\n",
        "\n",
        "# 방법1\n",
        "def read_text_file1(file_path):\n",
        "    # 결과 리스트\n",
        "    outputs = []\n",
        "\n",
        "    # iterate through all file\n",
        "    for file in os.listdir(file_path):\n",
        "\n",
        "        # 파일 리스트 확인\n",
        "        # print(file)\n",
        "\n",
        "        if file.endswith(\".txt\"):\n",
        "\n",
        "            target_path = f\"{file_path}\\{file}\"\n",
        "\n",
        "        with open(target_path, 'r') as f:\n",
        "            # 내용 확인\n",
        "            # print(f.read())\n",
        "\n",
        "            outputs.append(f.read().strip('\\n')) # .strip('\\n')\n",
        "\n",
        "    return outputs\n",
        "\n",
        "# 실행1\n",
        "print(read_text_file1(\"../source/27-1/\"))\n",
        "print()\n",
        "\n",
        "\n",
        "# 방법2\n",
        "import glob\n",
        "\n",
        "def read_text_file2(file_path):\n",
        "    # 결과 리스트\n",
        "    outputs = []\n",
        "\n",
        "    for file in glob.glob(file_path + '\\*.txt'):\n",
        "\n",
        "        with open(file, 'r') as f:\n",
        "            # 내용 확인\n",
        "            # print(f.read())\n",
        "\n",
        "            outputs.append(f.read().strip('\\n')) # .strip('\\n')\n",
        "\n",
        "    return outputs\n",
        "\n",
        "# 실행2\n",
        "print(read_text_file2(\"../source/27-1/\"))\n",
        "\n",
        "\n",
        "# 방법3\n",
        "# ...."
      ]
    }
  ],
  "metadata": {
    "colab": {
      "provenance": []
    },
    "kernelspec": {
      "display_name": "Python 3 (ipykernel)",
      "language": "python",
      "name": "python3"
    },
    "language_info": {
      "codemirror_mode": {
        "name": "ipython",
        "version": 3
      },
      "file_extension": ".py",
      "mimetype": "text/x-python",
      "name": "python",
      "nbconvert_exporter": "python",
      "pygments_lexer": "ipython3",
      "version": "3.10.5"
    },
    "toc": {
      "base_numbering": 1,
      "nav_menu": {},
      "number_sections": false,
      "sideBar": true,
      "skip_h1_title": false,
      "title_cell": "Table of Contents",
      "title_sidebar": "Contents",
      "toc_cell": false,
      "toc_position": {
        "height": "calc(100% - 180px)",
        "left": "10px",
        "top": "150px",
        "width": "318px"
      },
      "toc_section_display": true,
      "toc_window_display": false
    }
  },
  "nbformat": 4,
  "nbformat_minor": 5
}
