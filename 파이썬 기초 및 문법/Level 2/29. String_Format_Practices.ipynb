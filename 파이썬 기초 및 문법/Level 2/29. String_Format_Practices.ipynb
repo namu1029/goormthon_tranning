{
  "cells": [
    {
      "cell_type": "markdown",
      "id": "c3a88b92",
      "metadata": {
        "id": "c3a88b92"
      },
      "source": [
        "***\n",
        "## 29. 문자열 포맷팅 (String Format Practices) 💻\n",
        "***\n",
        "#### **`연습예제`**"
      ]
    },
    {
      "cell_type": "markdown",
      "id": "49b428ae",
      "metadata": {
        "id": "49b428ae"
      },
      "source": [
        "`아래` **`String 포멧`** **`출력문`** `에서` **`결과 값`**  `이` **`다른 것`** `은 무엇일까요?` **`*꼭 코딩 후 확인하세요`**\n",
        "\n",
        "```python\n",
        "\n",
        "# 공통 변수 선언\n",
        "x = 10\n",
        "y = 20\n",
        "serialno = 308276567\n",
        "n = 'Kim'\n",
        "\n",
        "\n",
        "# 출력1\n",
        "ex1 = 'n = %s, s = %x, sum=%d' % (n, serialno, (x + y))\n",
        "print(ex1)\n",
        "\n",
        "\n",
        "# 출력2\n",
        "ex2 = 'n = {n}, s = {serialno}, sum={sum}'.format(n=n, serialno=serialno, sum=x + y)\n",
        "print(ex2)\n",
        "\n",
        "\n",
        "# 출력3\n",
        "ex3 = f'n = {n}, s = {serialno}, sum={x + y}'\n",
        "print(ex3)\n",
        "```"
      ]
    },
    {
      "cell_type": "markdown",
      "id": "44d53430",
      "metadata": {
        "id": "44d53430"
      },
      "source": [
        "#### **`코딩영역`**"
      ]
    },
    {
      "cell_type": "code",
      "execution_count": 1,
      "id": "ca1e5a1b",
      "metadata": {
        "colab": {
          "base_uri": "https://localhost:8080/"
        },
        "id": "ca1e5a1b",
        "outputId": "660fc776-845f-499c-bbc9-11e14ee3ece9"
      },
      "outputs": [
        {
          "name": "stdout",
          "output_type": "stream",
          "text": [
            "n = Kim, s = 125fed57, sum=30\n",
            "n = Kim, s = 308276567, sum=30\n",
            "n = Kim, s = 308276567, sum=30\n"
          ]
        }
      ],
      "source": [
        "# 공통 변수 선언\n",
        "x = 10\n",
        "y = 20\n",
        "serialno = 308276567\n",
        "n = 'Kim'\n",
        "\n",
        "\n",
        "# 출력1\n",
        "ex1 = 'n = %s, s = %x, sum=%d' % (n, serialno, (x + y))\n",
        "print(ex1)\n",
        "\n",
        "\n",
        "# 출력2\n",
        "ex2 = 'n = {n}, s = {serialno}, sum={sum}'.format(n=n, serialno=serialno, sum=x + y)\n",
        "print(ex2)\n",
        "\n",
        "\n",
        "# 출력3\n",
        "ex3 = f'n = {n}, s = {serialno}, sum={x + y}'\n",
        "print(ex3)"
      ]
    },
    {
      "cell_type": "markdown",
      "id": "866ce5b7",
      "metadata": {
        "id": "866ce5b7"
      },
      "source": [
        "***"
      ]
    }
  ],
  "metadata": {
    "colab": {
      "provenance": []
    },
    "kernelspec": {
      "display_name": "Python 3 (ipykernel)",
      "language": "python",
      "name": "python3"
    },
    "language_info": {
      "codemirror_mode": {
        "name": "ipython",
        "version": 3
      },
      "file_extension": ".py",
      "mimetype": "text/x-python",
      "name": "python",
      "nbconvert_exporter": "python",
      "pygments_lexer": "ipython3",
      "version": "3.9.12"
    },
    "toc": {
      "base_numbering": 1,
      "nav_menu": {},
      "number_sections": false,
      "sideBar": true,
      "skip_h1_title": false,
      "title_cell": "Table of Contents",
      "title_sidebar": "Contents",
      "toc_cell": false,
      "toc_position": {
        "height": "calc(100% - 180px)",
        "left": "10px",
        "top": "150px",
        "width": "318px"
      },
      "toc_section_display": true,
      "toc_window_display": false
    }
  },
  "nbformat": 4,
  "nbformat_minor": 5
}
