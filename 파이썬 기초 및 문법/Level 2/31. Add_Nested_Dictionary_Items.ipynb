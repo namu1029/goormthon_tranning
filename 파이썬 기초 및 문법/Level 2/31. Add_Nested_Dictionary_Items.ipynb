{
  "cells": [
    {
      "cell_type": "markdown",
      "id": "c3a88b92",
      "metadata": {
        "id": "c3a88b92"
      },
      "source": [
        "***\n",
        "## 31. 중첩 Dict 추가 (Add Nested Dictionary Items) 💻\n",
        "***\n",
        "#### **`연습예제`**"
      ]
    },
    {
      "cell_type": "markdown",
      "id": "49b428ae",
      "metadata": {
        "id": "49b428ae"
      },
      "source": [
        "`아래` **`딕셔너리(Dict)`** `에` **`두 개`** `의` **`요소를`** `추가하세요.` **`*가능한 방법 모두 코딩해보세요.*`**\n",
        "\n",
        "```python\n",
        "\n",
        "# Dict 선언\n",
        "d = {\"group1\":[\n",
        "                {'name': 'Park', 'age': '32', 'sex': 'Male'},\n",
        "                {'name': 'Cho', 'age': '44', 'sex': 'Female'},\n",
        "                {'name': 'Kang', 'age': '39', 'sex': 'Female', 'married': 'No'}\n",
        "              ],\n",
        "     \"group2\":[\n",
        "                {'name': 'Kim', 'age': '23', 'sex': 'Male', 'married': 'Yes'},\n",
        "                {'name': 'Lee', 'age': '37', 'sex': 'Male', 'married': 'No'}\n",
        "              ],\n",
        "     \"type\" : {\"a\": \"employee\", \"b\": \"officer\", \"c\": \"director\", \"d\": \"manager\", \"e\": \"service provider\"}\n",
        "    }\n",
        "\n",
        "\n",
        "# 추가1\n",
        "\"group1\" : {'name': 'Jung', 'age': '22', 'sex': 'Male', 'married': 'Yes'}\n",
        "    \n",
        "    \n",
        "# 추가2\n",
        "\"type\" : {\"f\": \"engineer\"}\n",
        "    \n",
        "\n",
        "# 출력 결과\n",
        " {  \"group1\":[\n",
        "                {'name': 'Park', 'age': '32', 'sex': 'Male'},\n",
        "                {'name': 'Cho', 'age': '44', 'sex': 'Female'},\n",
        "                {'name': 'Kang', 'age': '39', 'sex': 'Female', 'married': 'No'},\n",
        "                {'name': 'Jung', 'age': '22', 'sex': 'Male', 'married': 'Yes'}\n",
        "              ],\n",
        "     \"group2\":[\n",
        "                {'name': 'Kim', 'age': '23', 'sex': 'Male', 'married': 'Yes'},\n",
        "                {'name': 'Lee', 'age': '37', 'sex': 'Male', 'married': 'No'}\n",
        "              ],\n",
        "     \"type\" : {\"a\": \"employee\", \"b\": \"officer\", \"c\": \"director\", \"d\": \"manager\", \"e\": \"service provider\", \"f\": \"engineer\"}\n",
        "  }\n",
        "```"
      ]
    },
    {
      "cell_type": "markdown",
      "id": "44d53430",
      "metadata": {
        "id": "44d53430"
      },
      "source": [
        "#### **`코딩영역`**"
      ]
    },
    {
      "cell_type": "code",
      "execution_count": 1,
      "id": "ca1e5a1b",
      "metadata": {
        "colab": {
          "base_uri": "https://localhost:8080/"
        },
        "id": "ca1e5a1b",
        "outputId": "088b9b0d-854b-423b-d30d-e4b5792494a5"
      },
      "outputs": [
        {
          "name": "stdout",
          "output_type": "stream",
          "text": [
            "{'group1': [{'name': 'Park', 'age': '32', 'sex': 'Male'}, {'name': 'Cho', 'age': '44', 'sex': 'Female'}, {'name': 'Kang', 'age': '39', 'sex': 'Female', 'married': 'No'}, {'name': 'Jung', 'age': '22', 'sex': 'Male', 'married': 'Yes'}], 'group2': [{'name': 'Kim', 'age': '23', 'sex': 'Male', 'married': 'Yes'}, {'name': 'Lee', 'age': '37', 'sex': 'Male', 'married': 'No'}], 'type': {'a': 'employee', 'b': 'officer', 'c': 'director', 'd': 'manager', 'e': 'service provider', 'f': 'engineer'}}\n"
          ]
        }
      ],
      "source": [
        "d = {\"group1\":[\n",
        "                {'name': 'Park', 'age': '32', 'sex': 'Male'},\n",
        "                {'name': 'Cho', 'age': '44', 'sex': 'Female'},\n",
        "                {'name': 'Kang', 'age': '39', 'sex': 'Female', 'married': 'No'}\n",
        "              ],\n",
        "     \"group2\":[\n",
        "                {'name': 'Kim', 'age': '23', 'sex': 'Male', 'married': 'Yes'},\n",
        "                {'name': 'Lee', 'age': '37', 'sex': 'Male', 'married': 'No'}\n",
        "              ],\n",
        "     \"type\" : {\"a\": \"employee\", \"b\": \"officer\", \"c\": \"director\", \"d\": \"manager\", \"e\": \"service provider\"}\n",
        "    }\n",
        "\n",
        "# 방법1\n",
        "d['group1'].append({'name': 'Jung', 'age': '22', 'sex': 'Male', 'married': 'Yes'})\n",
        "d['type'].update({\"f\": \"engineer\"})\n",
        "\n",
        "print(d)\n",
        "\n",
        "\n",
        "# 방법2\n",
        "# d.get('group1').append({'name': 'Jung', 'age': '22', 'sex': 'Male', 'married': 'Yes'})\n",
        "# d.get('type')['f'] = \"engineer\"\n",
        "\n",
        "# print(d)"
      ]
    },
    {
      "cell_type": "markdown",
      "id": "866ce5b7",
      "metadata": {
        "id": "866ce5b7"
      },
      "source": [
        "***"
      ]
    }
  ],
  "metadata": {
    "colab": {
      "provenance": []
    },
    "kernelspec": {
      "display_name": "Python 3 (ipykernel)",
      "language": "python",
      "name": "python3"
    },
    "language_info": {
      "codemirror_mode": {
        "name": "ipython",
        "version": 3
      },
      "file_extension": ".py",
      "mimetype": "text/x-python",
      "name": "python",
      "nbconvert_exporter": "python",
      "pygments_lexer": "ipython3",
      "version": "3.10.5"
    },
    "toc": {
      "base_numbering": 1,
      "nav_menu": {},
      "number_sections": false,
      "sideBar": true,
      "skip_h1_title": false,
      "title_cell": "Table of Contents",
      "title_sidebar": "Contents",
      "toc_cell": false,
      "toc_position": {
        "height": "calc(100% - 180px)",
        "left": "10px",
        "top": "150px",
        "width": "318px"
      },
      "toc_section_display": true,
      "toc_window_display": false
    }
  },
  "nbformat": 4,
  "nbformat_minor": 5
}
