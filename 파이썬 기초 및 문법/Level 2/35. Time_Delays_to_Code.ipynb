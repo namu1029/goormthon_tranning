{
  "cells": [
    {
      "cell_type": "markdown",
      "id": "c3a88b92",
      "metadata": {
        "id": "c3a88b92"
      },
      "source": [
        "***\n",
        "## 35. 실행 타임 딜레이1(Time Delays to Code) 💻\n",
        "***\n",
        "#### **`연습예제`** 💻"
      ]
    },
    {
      "cell_type": "markdown",
      "id": "49b428ae",
      "metadata": {
        "id": "49b428ae"
      },
      "source": [
        "**`1`** `부터` **`10`** `까지` **`1초`** `간격으로` **`숫자`** `를` **`출력 후 종료하세요.`**  **`*(while)문 사용 후 다양한 방법으로 시도하세요.*`**\n",
        "\n",
        "```python\n",
        "\n",
        "# 출력 결과\n",
        "1\n",
        "2\n",
        "3\n",
        "4\n",
        "5\n",
        "6\n",
        "7\n",
        "8\n",
        "9\n",
        "10\n",
        "```"
      ]
    },
    {
      "cell_type": "markdown",
      "id": "44d53430",
      "metadata": {
        "id": "44d53430"
      },
      "source": [
        "#### **`코딩영역`**"
      ]
    },
    {
      "cell_type": "code",
      "execution_count": 1,
      "id": "ca1e5a1b",
      "metadata": {
        "colab": {
          "base_uri": "https://localhost:8080/"
        },
        "id": "ca1e5a1b",
        "outputId": "4674589a-5f50-48a1-845f-cad38be80724"
      },
      "outputs": [
        {
          "name": "stdout",
          "output_type": "stream",
          "text": [
            "1\n",
            "2\n",
            "3\n",
            "4\n",
            "5\n",
            "6\n",
            "7\n",
            "8\n",
            "9\n",
            "10\n"
          ]
        }
      ],
      "source": [
        "import time\n",
        "\n",
        "# 방법1\n",
        "n = 0\n",
        "while n < 10:\n",
        "    n += 1\n",
        "    time.sleep(1)\n",
        "    print(n)\n",
        "\n",
        "\n",
        "# 방법2\n",
        "# n = 0\n",
        "# while True:\n",
        "#     n += 1\n",
        "#     time.sleep(1)\n",
        "#     print(n)\n",
        "#     if n == 10:\n",
        "#         break\n",
        "\n",
        "\n",
        "# 방법3\n",
        "# import time\n",
        "# n = 1\n",
        "# while True:\n",
        "#     time.sleep(1)\n",
        "#     print(n)\n",
        "#     n += 1\n",
        "#     if n > 10:\n",
        "#         break\n",
        "\n",
        "\n",
        "# 방법4\n",
        "# import time\n",
        "# n = 1\n",
        "# while True:\n",
        "#     time.sleep(1)\n",
        "#     if n <= 10:\n",
        "#         print(n)\n",
        "#         n += 1\n",
        "#         continue\n",
        "#     break"
      ]
    },
    {
      "cell_type": "markdown",
      "id": "866ce5b7",
      "metadata": {
        "id": "866ce5b7"
      },
      "source": [
        "***"
      ]
    }
  ],
  "metadata": {
    "colab": {
      "provenance": []
    },
    "kernelspec": {
      "display_name": "Python 3 (ipykernel)",
      "language": "python",
      "name": "python3"
    },
    "language_info": {
      "codemirror_mode": {
        "name": "ipython",
        "version": 3
      },
      "file_extension": ".py",
      "mimetype": "text/x-python",
      "name": "python",
      "nbconvert_exporter": "python",
      "pygments_lexer": "ipython3",
      "version": "3.10.5"
    },
    "toc": {
      "base_numbering": 1,
      "nav_menu": {},
      "number_sections": false,
      "sideBar": true,
      "skip_h1_title": false,
      "title_cell": "Table of Contents",
      "title_sidebar": "Contents",
      "toc_cell": false,
      "toc_position": {
        "height": "calc(100% - 180px)",
        "left": "10px",
        "top": "150px",
        "width": "318px"
      },
      "toc_section_display": true,
      "toc_window_display": false
    }
  },
  "nbformat": 4,
  "nbformat_minor": 5
}
