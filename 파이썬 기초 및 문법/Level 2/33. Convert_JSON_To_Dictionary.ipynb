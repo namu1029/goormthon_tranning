{
  "cells": [
    {
      "cell_type": "markdown",
      "id": "c3a88b92",
      "metadata": {
        "id": "c3a88b92"
      },
      "source": [
        "***\n",
        "## 33. Json 변환 (Convert JSON To Dictionary) 💻\n",
        "***\n",
        "#### **`연습예제`**"
      ]
    },
    {
      "cell_type": "markdown",
      "id": "49b428ae",
      "metadata": {
        "id": "49b428ae"
      },
      "source": [
        "`아래` **`문자열(JSON 구조)`** `를` **`딕셔너리(Dict)`**  **`형식`** `으로 변환하세요.` **`*힌트를 참고하세요.*`**\n",
        "\n",
        "```python\n",
        "\n",
        "# Dict 선언\n",
        "d = \"\"\"\n",
        "    {\"group1\":[\n",
        "                {'name': 'Park', 'age': '32', 'sex': 'Male'},\n",
        "                {'name': 'Cho', 'age': '44', 'sex': 'Female'},\n",
        "                {'name': 'Kang', 'age': '39', 'sex': 'Female', 'married': 'No'}\n",
        "              ],\n",
        "     \"group2\":[\n",
        "                {'name': 'Kim', 'age': '23', 'sex': 'Male', 'married': 'Yes'},\n",
        "                {'name': 'Lee', 'age': '37', 'sex': 'Male', 'married': 'No'}\n",
        "              ],\n",
        "     \"type\" : {\"a\": \"employee\", \"b\": \"officer\", \"c\": \"director\", \"d\": \"manager\", \"e\": \"service provider\"}\n",
        "    }\n",
        "    \"\"\"\n",
        "\n",
        "\n",
        "# 결과\n",
        "{'group1':\n",
        " [{'name': 'Park', 'age': '32', 'sex': 'Male'},\n",
        "  {'name': 'Cho', 'age': '44', 'sex': 'Female'},\n",
        "  {'name': 'Kang', 'age': '39', 'sex': 'Female', 'married': 'No'}\n",
        " ],\n",
        " 'group2':\n",
        " [{'name': 'Kim', 'age': '23', 'sex': 'Male', 'married': 'Yes'},\n",
        "  {'name': 'Lee', 'age': '37', 'sex': 'Male', 'married': 'No'}\n",
        " ],\n",
        " 'type': {\n",
        "     'a': 'employee', 'b': 'officer', 'c': 'director', 'd': 'manager', 'e': 'service provider'}\n",
        "  }\n",
        "```"
      ]
    },
    {
      "cell_type": "markdown",
      "id": "44d53430",
      "metadata": {
        "id": "44d53430"
      },
      "source": [
        "#### **`코딩영역`**"
      ]
    },
    {
      "cell_type": "code",
      "execution_count": 1,
      "id": "ca1e5a1b",
      "metadata": {
        "colab": {
          "base_uri": "https://localhost:8080/"
        },
        "id": "ca1e5a1b",
        "outputId": "581ac1d7-2436-4f3b-a184-86e7e257ee9b"
      },
      "outputs": [
        {
          "output_type": "stream",
          "name": "stdout",
          "text": [
            "{'group1': [{'name': 'Park', 'age': '32', 'sex': 'Male'}, {'name': 'Cho', 'age': '44', 'sex': 'Female'}, {'name': 'Kang', 'age': '39', 'sex': 'Female', 'married': 'No'}], 'group2': [{'name': 'Kim', 'age': '23', 'sex': 'Male', 'married': 'Yes'}, {'name': 'Lee', 'age': '37', 'sex': 'Male', 'married': 'No'}], 'type': {'a': 'employee', 'b': 'officer', 'c': 'director', 'd': 'manager', 'e': 'service provider'}}\n",
            "<class 'dict'>\n",
            "\n",
            "{'group1': [{'name': 'Park', 'age': '32', 'sex': 'Male'}, {'name': 'Cho', 'age': '44', 'sex': 'Female'}, {'name': 'Kang', 'age': '39', 'sex': 'Female', 'married': 'No'}], 'group2': [{'name': 'Kim', 'age': '23', 'sex': 'Male', 'married': 'Yes'}, {'name': 'Lee', 'age': '37', 'sex': 'Male', 'married': 'No'}], 'type': {'a': 'employee', 'b': 'officer', 'c': 'director', 'd': 'manager', 'e': 'service provider'}}\n",
            "<class 'dict'>\n"
          ]
        }
      ],
      "source": [
        "d = '''\n",
        "    {\"group1\":[\n",
        "                {'name': 'Park', 'age': '32', 'sex': 'Male'},\n",
        "                {'name': 'Cho', 'age': '44', 'sex': 'Female'},\n",
        "                {'name': 'Kang', 'age': '39', 'sex': 'Female', 'married': 'No'}\n",
        "              ],\n",
        "     \"group2\":[\n",
        "                {'name': 'Kim', 'age': '23', 'sex': 'Male', 'married': 'Yes'},\n",
        "                {'name': 'Lee', 'age': '37', 'sex': 'Male', 'married': 'No'}\n",
        "              ],\n",
        "     \"type\" : {\"a\": \"employee\", \"b\": \"officer\", \"c\": \"director\", \"d\": \"manager\", \"e\": \"service provider\"}\n",
        "    }\n",
        "    '''\n",
        "\n",
        "import json\n",
        "\n",
        "# 방법1\n",
        "result1 = json.loads(d.replace(\"'\", \"\\\"\"))\n",
        "\n",
        "# 출력\n",
        "print(result1)\n",
        "# 확인\n",
        "print(type(result1))\n",
        "print()\n",
        "\n",
        "\n",
        "# 방법2\n",
        "with open(\"/content/33-1.json\", \"r\") as out:\n",
        "    result2 = json.load(out)\n",
        "    # 출력\n",
        "    print(result2)\n",
        "    # 확인\n",
        "    print(type(result2))"
      ]
    },
    {
      "cell_type": "markdown",
      "id": "866ce5b7",
      "metadata": {
        "id": "866ce5b7"
      },
      "source": [
        "***"
      ]
    }
  ],
  "metadata": {
    "kernelspec": {
      "display_name": "Python 3 (ipykernel)",
      "language": "python",
      "name": "python3"
    },
    "language_info": {
      "codemirror_mode": {
        "name": "ipython",
        "version": 3
      },
      "file_extension": ".py",
      "mimetype": "text/x-python",
      "name": "python",
      "nbconvert_exporter": "python",
      "pygments_lexer": "ipython3",
      "version": "3.10.5"
    },
    "toc": {
      "base_numbering": 1,
      "nav_menu": {},
      "number_sections": false,
      "sideBar": true,
      "skip_h1_title": false,
      "title_cell": "Table of Contents",
      "title_sidebar": "Contents",
      "toc_cell": false,
      "toc_position": {
        "height": "calc(100% - 180px)",
        "left": "10px",
        "top": "150px",
        "width": "318px"
      },
      "toc_section_display": true,
      "toc_window_display": false
    },
    "colab": {
      "provenance": []
    }
  },
  "nbformat": 4,
  "nbformat_minor": 5
}