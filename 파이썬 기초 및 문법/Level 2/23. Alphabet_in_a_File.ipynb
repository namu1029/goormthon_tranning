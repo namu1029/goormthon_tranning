{
  "cells": [
    {
      "cell_type": "markdown",
      "id": "c3a88b92",
      "metadata": {
        "id": "c3a88b92"
      },
      "source": [
        "***\n",
        "## 23. 알파벳 쓰기 (Alphabet in a File) 💻\n",
        "***\n",
        "#### **`연습예제`**"
      ]
    },
    {
      "cell_type": "markdown",
      "id": "49b428ae",
      "metadata": {
        "id": "49b428ae"
      },
      "source": [
        "**`/source`** **`폴더에 23-1.txt`** `파일이름으로` **`대문자 알파벳(A-Z)을`**  **`공백`** `으로 구분 후 파일로 쓰세요.` **`*아래 조건을 참고하세요*`**\n",
        "\n",
        "\n",
        "```python\n",
        "# 아래 조건 참조\n",
        "\n",
        "파일명 & 경로 = \"../source/23-1.txt\"\n",
        "파일 출력 결과 : \"A B C D E F G H I J K L M N O P Q R S T U V W X Y Z\"\n",
        "```"
      ]
    },
    {
      "cell_type": "markdown",
      "id": "44d53430",
      "metadata": {
        "id": "44d53430"
      },
      "source": [
        "#### **`코딩영역`**"
      ]
    },
    {
      "cell_type": "code",
      "execution_count": 1,
      "id": "ca1e5a1b",
      "metadata": {
        "colab": {
          "base_uri": "https://localhost:8080/"
        },
        "id": "ca1e5a1b",
        "outputId": "3ad0e178-a23a-4ec7-b07b-8b42647a8329"
      },
      "outputs": [
        {
          "output_type": "stream",
          "name": "stdout",
          "text": [
            "ex1 결과 : None\n",
            "ex2 결과 : None\n"
          ]
        }
      ],
      "source": [
        "# 방법1\n",
        "def write_alphabet1(filepath):\n",
        "    # 예외 처리 생략\n",
        "    with open(filepath, \"w\") as file:\n",
        "        for letter in 'ABCDEFGHIJKLMNOPQRSTUVWXYZ': # str은 시퀀스형\n",
        "            file.write(letter + \" \")\n",
        "\n",
        "print(f'ex1 결과 : {write_alphabet1(\"/content/23-1.txt\")}')\n",
        "\n",
        "\n",
        "# 방법2\n",
        "import string\n",
        "\n",
        "def write_alphabet2(filepath):\n",
        "    # 예외 처리 생략\n",
        "    with open(filepath, \"w\") as file:\n",
        "        for letter in string.ascii_uppercase: # string.ascii_lowercase 실습\n",
        "            file.write(letter + \"\\n\") # 줄바꿈\n",
        "\n",
        "print(f'ex2 결과 : {write_alphabet2(\"/content/23-2.txt\")}')"
      ]
    },
    {
      "cell_type": "markdown",
      "id": "866ce5b7",
      "metadata": {
        "id": "866ce5b7"
      },
      "source": [
        "***"
      ]
    }
  ],
  "metadata": {
    "kernelspec": {
      "display_name": "Python 3 (ipykernel)",
      "language": "python",
      "name": "python3"
    },
    "language_info": {
      "codemirror_mode": {
        "name": "ipython",
        "version": 3
      },
      "file_extension": ".py",
      "mimetype": "text/x-python",
      "name": "python",
      "nbconvert_exporter": "python",
      "pygments_lexer": "ipython3",
      "version": "3.10.5"
    },
    "toc": {
      "base_numbering": 1,
      "nav_menu": {},
      "number_sections": false,
      "sideBar": true,
      "skip_h1_title": false,
      "title_cell": "Table of Contents",
      "title_sidebar": "Contents",
      "toc_cell": false,
      "toc_position": {
        "height": "calc(100% - 180px)",
        "left": "10px",
        "top": "150px",
        "width": "318px"
      },
      "toc_section_display": true,
      "toc_window_display": false
    },
    "colab": {
      "provenance": []
    }
  },
  "nbformat": 4,
  "nbformat_minor": 5
}