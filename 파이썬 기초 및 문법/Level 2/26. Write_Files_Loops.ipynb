{
  "cells": [
    {
      "cell_type": "markdown",
      "id": "c3a88b92",
      "metadata": {
        "id": "c3a88b92"
      },
      "source": [
        "***\n",
        "## 26. 파일 읽기 (Write Files Loops) 💻\n",
        "***\n",
        "#### **`연습예제`**"
      ]
    },
    {
      "cell_type": "markdown",
      "id": "49b428ae",
      "metadata": {
        "id": "49b428ae"
      },
      "source": [
        "**`/source/26-1/`** `경로에서` **`아래 조건`** `으로` **`name = 파일명`**  **`contents = 내용`** `으로 파일로 쓰세요.`\n",
        "\n",
        "\n",
        "```python\n",
        "# 아래 조건 참조\n",
        "\n",
        "파일명 & 경로 = \"../source/26-1/파일명.txt\"\n",
        "파일명 리스트 = [\"A\", \"B\", \"C\", \"D\", \"F\", \"G\"]\n",
        "컨텐츠 리스트 = [\"Python\", \"JavaScript\", \"PHP\", \"Rust\", \"Solidity\", \"Assembly\"]\n",
        "```"
      ]
    },
    {
      "cell_type": "markdown",
      "id": "44d53430",
      "metadata": {
        "id": "44d53430"
      },
      "source": [
        "#### **`코딩영역`**"
      ]
    },
    {
      "cell_type": "code",
      "execution_count": 1,
      "id": "ca1e5a1b",
      "metadata": {
        "id": "ca1e5a1b"
      },
      "outputs": [],
      "source": [
        "import os\n",
        "\n",
        "filenames = [\"A\", \"B\", \"C\", \"D\", \"F\", \"G\"]\n",
        "contents1 = [\"Python\", \"JavaScript\", \"PHP\", \"Rust\", \"Solidity\", \"Assembly\"]\n",
        "contents2 = [[\"Python\", \"JavaScript\", \"PHP\", \"Rust\", \"Solidity\", \"Assembly\"], [\"Python\", \"JavaScript\", \"PHP\", \"Rust\", \"Solidity\", \"Assembly\"], [\"Python\", \"JavaScript\", \"PHP\", \"Rust\", \"Solidity\", \"Assembly\"], [\"Python\", \"JavaScript\", \"PHP\", \"Rust\", \"Solidity\", \"Assembly\"], [\"Python\", \"JavaScript\", \"PHP\", \"Rust\", \"Solidity\", \"Assembly\"], [\"Python\", \"JavaScript\", \"PHP\", \"Rust\", \"Solidity\", \"Assembly\"]]\n",
        "\n",
        "# 방법1\n",
        "def write_contents1(filepath):\n",
        "\n",
        "    if not os.path.exists(filepath):\n",
        "        os.makedirs(filepath)\n",
        "\n",
        "    # loop write\n",
        "    for n, c in zip(filenames, contents1):\n",
        "        with open(filepath + n + '.txt', \"w\") as file:\n",
        "            file.write(c)\n",
        "\n",
        "# 실행1\n",
        "write_contents1(\"/content/26-1/\")\n",
        "\n",
        "\n",
        "# 방법2\n",
        "def write_contents2(filepath):\n",
        "\n",
        "    if not os.path.exists(filepath):\n",
        "        os.makedirs(filepath)\n",
        "\n",
        "    # loop writeliness\n",
        "    for n, c in zip(filenames, contents2):\n",
        "        with open(filepath + n + '.txt', \"a\") as file:\n",
        "            # append 확인\n",
        "            # c + '\\n' for c in c 실습 -> 줄바꿈s\n",
        "            file.writelines(c)\n",
        "\n",
        "# 실행2\n",
        "write_contents2(\"/content/26-2/\")"
      ]
    },
    {
      "cell_type": "markdown",
      "id": "866ce5b7",
      "metadata": {
        "id": "866ce5b7"
      },
      "source": [
        "***"
      ]
    }
  ],
  "metadata": {
    "colab": {
      "provenance": []
    },
    "kernelspec": {
      "display_name": "Python 3 (ipykernel)",
      "language": "python",
      "name": "python3"
    },
    "language_info": {
      "codemirror_mode": {
        "name": "ipython",
        "version": 3
      },
      "file_extension": ".py",
      "mimetype": "text/x-python",
      "name": "python",
      "nbconvert_exporter": "python",
      "pygments_lexer": "ipython3",
      "version": "3.10.5"
    },
    "toc": {
      "base_numbering": 1,
      "nav_menu": {},
      "number_sections": false,
      "sideBar": true,
      "skip_h1_title": false,
      "title_cell": "Table of Contents",
      "title_sidebar": "Contents",
      "toc_cell": false,
      "toc_position": {
        "height": "calc(100% - 180px)",
        "left": "10px",
        "top": "150px",
        "width": "318px"
      },
      "toc_section_display": true,
      "toc_window_display": false
    }
  },
  "nbformat": 4,
  "nbformat_minor": 5
}
