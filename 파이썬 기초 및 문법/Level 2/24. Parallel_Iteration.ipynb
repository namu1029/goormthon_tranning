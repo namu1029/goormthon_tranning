{
  "cells": [
    {
      "cell_type": "markdown",
      "id": "c3a88b92",
      "metadata": {
        "id": "c3a88b92"
      },
      "source": [
        "***\n",
        "## 24. 병렬 처리 (Parallel Iteration) 💻\n",
        "***\n",
        "#### **`연습예제`**"
      ]
    },
    {
      "cell_type": "markdown",
      "id": "49b428ae",
      "metadata": {
        "id": "49b428ae"
      },
      "source": [
        "아래 **`3개의 리스트`** 를 **`{key : a , value : b * c}`** `형태의 ` **`Dict(딕셔너리)`**  **`구조`** `로 변경하세요.` **`*다양한 방법 활용*`**\n",
        "\n",
        "\n",
        "```python\n",
        "# 아래 조건 참조\n",
        "\n",
        "a = [\"one\", \"two\", \"three\", \"four\"]\n",
        "b = [30, 20, 15, 75]\n",
        "c = [5.2, 7.4, 3.6, 4.2]\n",
        "\n",
        "출력 결과 : \"{'one': 156.0, 'two': 148.0, 'three': 54.0, 'four': 315.0}\"\n",
        "```"
      ]
    },
    {
      "cell_type": "markdown",
      "id": "44d53430",
      "metadata": {
        "id": "44d53430"
      },
      "source": [
        "#### **`코딩영역`**"
      ]
    },
    {
      "cell_type": "code",
      "execution_count": 4,
      "id": "ca1e5a1b",
      "metadata": {
        "colab": {
          "base_uri": "https://localhost:8080/"
        },
        "id": "ca1e5a1b",
        "outputId": "d5a08b38-389a-46af-90f9-3647ba6d80fd"
      },
      "outputs": [
        {
          "output_type": "stream",
          "name": "stdout",
          "text": [
            "{'one': 156.0, 'two': 148.0, 'three': 54.0, 'four': 315.0}\n",
            "{'one': 156.0, 'two': 148.0, 'three': 54.0, 'four': 315.0}\n",
            "{'one': 156.0, 'two': 148.0, 'three': 54.0, 'four': 315.0}\n"
          ]
        }
      ],
      "source": [
        "a = [\"one\", \"two\", \"three\", \"four\"]\n",
        "b = [30, 20, 15, 75]\n",
        "c = [5.2, 7.4, 3.6, 4.2]\n",
        "\n",
        "# 방법1\n",
        "result1 = {}\n",
        "for x, y, z in zip(a, b, c):\n",
        "  result1[x] = y * z\n",
        "\n",
        "print(result1)\n",
        "\n",
        "\n",
        "# 방법2\n",
        "print({x : y * z for x, y, z in zip(a, b, c)})\n",
        "\n",
        "# 방법3\n",
        "print(dict(((x, y * z) for x, y, z in zip(a, b, c))))"
      ]
    },
    {
      "cell_type": "markdown",
      "id": "866ce5b7",
      "metadata": {
        "id": "866ce5b7"
      },
      "source": [
        "***"
      ]
    }
  ],
  "metadata": {
    "kernelspec": {
      "display_name": "Python 3 (ipykernel)",
      "language": "python",
      "name": "python3"
    },
    "language_info": {
      "codemirror_mode": {
        "name": "ipython",
        "version": 3
      },
      "file_extension": ".py",
      "mimetype": "text/x-python",
      "name": "python",
      "nbconvert_exporter": "python",
      "pygments_lexer": "ipython3",
      "version": "3.10.5"
    },
    "toc": {
      "base_numbering": 1,
      "nav_menu": {},
      "number_sections": false,
      "sideBar": true,
      "skip_h1_title": false,
      "title_cell": "Table of Contents",
      "title_sidebar": "Contents",
      "toc_cell": false,
      "toc_position": {
        "height": "calc(100% - 180px)",
        "left": "10px",
        "top": "150px",
        "width": "318px"
      },
      "toc_section_display": true,
      "toc_window_display": false
    },
    "colab": {
      "provenance": []
    }
  },
  "nbformat": 4,
  "nbformat_minor": 5
}