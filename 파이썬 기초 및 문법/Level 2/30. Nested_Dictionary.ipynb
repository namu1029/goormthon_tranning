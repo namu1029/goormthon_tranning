{
  "cells": [
    {
      "cell_type": "markdown",
      "id": "c3a88b92",
      "metadata": {
        "id": "c3a88b92"
      },
      "source": [
        "***\n",
        "## 30. 중첩 Dict (Nested Dictionary) 💻\n",
        "***\n",
        "#### **`연습예제`**"
      ]
    },
    {
      "cell_type": "markdown",
      "id": "49b428ae",
      "metadata": {
        "id": "49b428ae"
      },
      "source": [
        "`아래` **`딕셔너리(Dict)`** `에서` **`출력결과`** `와 같이` **`값을`** `추출하세요.` **`*가능한 방법 모두 코딩해보세요.*`**\n",
        "\n",
        "```python\n",
        "\n",
        "# 중첩 Dict 선언\n",
        "d = {\"group1\":[\n",
        "                {'name': 'Park', 'age': '32', 'sex': 'Male'},\n",
        "                {'name': 'Cho', 'age': '44', 'sex': 'Female'},\n",
        "                {'name': 'Kang', 'age': '39', 'sex': 'Female', 'married': 'No'}\n",
        "              ],\n",
        "     \"group2\":[\n",
        "                {'name': 'Kim', 'age': '23', 'sex': 'Male', 'married': 'Yes'},\n",
        "                {'name': 'Lee', 'age': '37', 'sex': 'Male', 'married': 'No'}\n",
        "              ],\n",
        "     \"type\" : {\"a\": \"employee\", \"b\": \"officer\", \"c\": \"director\", \"d\": \"manager\", \"e\": \"service provider\"}\n",
        "    }\n",
        "\n",
        "\n",
        "# 출력결과\n",
        "Name : Kim, Age : 23, Type : officer\n",
        "```"
      ]
    },
    {
      "cell_type": "markdown",
      "id": "44d53430",
      "metadata": {
        "id": "44d53430"
      },
      "source": [
        "#### **`코딩영역`**"
      ]
    },
    {
      "cell_type": "code",
      "execution_count": 1,
      "id": "ca1e5a1b",
      "metadata": {
        "colab": {
          "base_uri": "https://localhost:8080/"
        },
        "id": "ca1e5a1b",
        "outputId": "7b2e8c63-cb7d-48f7-c219-007cc4522de5"
      },
      "outputs": [
        {
          "output_type": "stream",
          "name": "stdout",
          "text": [
            "Name : Kim Age : 23, Type : officer\n",
            "Name : Kim Age : 23, Type : officer\n"
          ]
        }
      ],
      "source": [
        "d = {\"group1\":[\n",
        "                {'name': 'Park', 'age': '32', 'sex': 'Male'},\n",
        "                {'name': 'Cho', 'age': '44', 'sex': 'Female'},\n",
        "                {'name': 'Kang', 'age': '39', 'sex': 'Female', 'married': 'No'}\n",
        "              ],\n",
        "     \"group2\":[\n",
        "                {'name': 'Kim', 'age': '23', 'sex': 'Male', 'married': 'Yes'},\n",
        "                {'name': 'Lee', 'age': '37', 'sex': 'Male', 'married': 'No'}\n",
        "              ],\n",
        "     \"type\" : {\"a\": \"employee\", \"b\": \"officer\", \"c\": \"director\", \"d\": \"manager\", \"e\": \"service provider\"}\n",
        "    }\n",
        "\n",
        "\n",
        "# 방법1\n",
        "ex1 = 'Name : {0} Age : {1}, Type : {2}'.format(d['group2'][0]['name'], d['group2'][0]['age'], d['type']['b'])\n",
        "\n",
        "print(ex1)\n",
        "\n",
        "\n",
        "# 방법2\n",
        "ex2 = 'Name : {0} Age : {1}, Type : {2}'.format(d.get('group2')[0].get('name'), d.get('group2')[0].get('age'), d.get('type').get('b'))\n",
        "\n",
        "print(ex2)"
      ]
    },
    {
      "cell_type": "markdown",
      "id": "866ce5b7",
      "metadata": {
        "id": "866ce5b7"
      },
      "source": [
        "***"
      ]
    }
  ],
  "metadata": {
    "kernelspec": {
      "display_name": "Python 3 (ipykernel)",
      "language": "python",
      "name": "python3"
    },
    "language_info": {
      "codemirror_mode": {
        "name": "ipython",
        "version": 3
      },
      "file_extension": ".py",
      "mimetype": "text/x-python",
      "name": "python",
      "nbconvert_exporter": "python",
      "pygments_lexer": "ipython3",
      "version": "3.9.12"
    },
    "toc": {
      "base_numbering": 1,
      "nav_menu": {},
      "number_sections": false,
      "sideBar": true,
      "skip_h1_title": false,
      "title_cell": "Table of Contents",
      "title_sidebar": "Contents",
      "toc_cell": false,
      "toc_position": {
        "height": "calc(100% - 180px)",
        "left": "10px",
        "top": "150px",
        "width": "318px"
      },
      "toc_section_display": true,
      "toc_window_display": false
    },
    "colab": {
      "provenance": []
    }
  },
  "nbformat": 4,
  "nbformat_minor": 5
}