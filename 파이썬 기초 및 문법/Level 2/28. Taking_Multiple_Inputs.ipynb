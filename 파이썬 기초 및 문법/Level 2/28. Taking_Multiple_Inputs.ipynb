{
  "cells": [
    {
      "cell_type": "markdown",
      "id": "c3a88b92",
      "metadata": {
        "id": "c3a88b92"
      },
      "source": [
        "***\n",
        "## 28. 사용자 입력 처리 (Taking Multiple Inputs)💻\n",
        "***\n",
        "#### **`연습예제`** 💻"
      ]
    },
    {
      "cell_type": "markdown",
      "id": "49b428ae",
      "metadata": {
        "id": "49b428ae"
      },
      "source": [
        "`사용자에게` **`정수를 3회`** **`입력 받은 후`** `으로` **`평균 값`**  `을 출력하세요.` **`*다양한 방법으로 시도해 보세요*`**\n",
        "\n",
        "\n",
        "```python\n",
        "# 아래 조건 참조\n",
        "# 예)\n",
        "x = 사용자 입력 -> 15\n",
        "y = 사용자 입력 -> 25\n",
        "z = 사용자 입력 -> 45\n",
        "\n",
        "# 출력\n",
        "28.3333333333 # (15 + 25 + 45) / 3\n",
        "```"
      ]
    },
    {
      "cell_type": "markdown",
      "id": "44d53430",
      "metadata": {
        "id": "44d53430"
      },
      "source": [
        "#### **`코딩영역`**"
      ]
    },
    {
      "cell_type": "code",
      "execution_count": 1,
      "id": "ca1e5a1b",
      "metadata": {
        "colab": {
          "base_uri": "https://localhost:8080/"
        },
        "id": "ca1e5a1b",
        "outputId": "aa7c008d-032b-421c-88f4-20fdee7a017b"
      },
      "outputs": [
        {
          "output_type": "stream",
          "name": "stdout",
          "text": [
            "Enter first value: 15\n",
            "Enter second value: 25\n",
            "Enter third value: 45\n",
            "28.333333333333332\n",
            "\n",
            "Enter three values: 15 25 45\n",
            "28.333333333333332\n",
            "\n",
            "Enter three values: 15 25 45\n",
            "28.333333333333332\n"
          ]
        }
      ],
      "source": [
        "# 방법1\n",
        "x = int(input(\"Enter first value: \"))\n",
        "y = int(input(\"Enter second value: \"))\n",
        "z = int(input(\"Enter third value: \"))\n",
        "\n",
        "print((x + y + z) / 3) # 총 개수를 카운트 해야함\n",
        "print()\n",
        "\n",
        "# 방법2\n",
        "x, y, z = input(\"Enter three values: \").split()\n",
        "\n",
        "print((int(x) + int(y) + int(z)) / 3)\n",
        "print()\n",
        "\n",
        "# 방법3\n",
        "l = list(map(int, input(\"Enter three values: \").split()))\n",
        "\n",
        "print(sum(l) / len(l))\n",
        "# print(round(sum(l) / len(l), 2)) # 자릿수"
      ]
    },
    {
      "cell_type": "markdown",
      "id": "866ce5b7",
      "metadata": {
        "id": "866ce5b7"
      },
      "source": [
        "***"
      ]
    }
  ],
  "metadata": {
    "kernelspec": {
      "display_name": "Python 3 (ipykernel)",
      "language": "python",
      "name": "python3"
    },
    "language_info": {
      "codemirror_mode": {
        "name": "ipython",
        "version": 3
      },
      "file_extension": ".py",
      "mimetype": "text/x-python",
      "name": "python",
      "nbconvert_exporter": "python",
      "pygments_lexer": "ipython3",
      "version": "3.10.5"
    },
    "toc": {
      "base_numbering": 1,
      "nav_menu": {},
      "number_sections": false,
      "sideBar": true,
      "skip_h1_title": false,
      "title_cell": "Table of Contents",
      "title_sidebar": "Contents",
      "toc_cell": false,
      "toc_position": {
        "height": "calc(100% - 180px)",
        "left": "10px",
        "top": "150px",
        "width": "318px"
      },
      "toc_section_display": true,
      "toc_window_display": false
    },
    "colab": {
      "provenance": []
    }
  },
  "nbformat": 4,
  "nbformat_minor": 5
}