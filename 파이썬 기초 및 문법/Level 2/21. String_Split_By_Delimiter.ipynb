{
  "cells": [
    {
      "cell_type": "markdown",
      "id": "c3a88b92",
      "metadata": {
        "id": "c3a88b92"
      },
      "source": [
        "***\n",
        "## 21. 문자열 파싱1 (String Split By Delimiter) 💻\n",
        "***\n",
        "#### **`연습예제`**"
      ]
    },
    {
      "cell_type": "markdown",
      "id": "49b428ae",
      "metadata": {
        "id": "49b428ae"
      },
      "source": [
        "`아래와 같은` **`문장을 공백`** `으로` **`구분 후`** `단어 개수를 출력하는` **`함수`** `를 작성 후 실행하세요.` **`input 함수 가능`**\n",
        "\n",
        "\n",
        "```python\n",
        "in_str = \"Suppose we have few words that are separated by spaces.\"\n",
        "\n",
        "출력 결과 : 10\n",
        "```"
      ]
    },
    {
      "cell_type": "markdown",
      "id": "44d53430",
      "metadata": {
        "id": "44d53430"
      },
      "source": [
        "#### **`코딩영역`**"
      ]
    },
    {
      "cell_type": "code",
      "execution_count": 1,
      "id": "ca1e5a1b",
      "metadata": {
        "colab": {
          "base_uri": "https://localhost:8080/"
        },
        "id": "ca1e5a1b",
        "outputId": "12c02791-17f1-49b1-d053-c8e4df8c6cc1"
      },
      "outputs": [
        {
          "output_type": "stream",
          "name": "stdout",
          "text": [
            "ex1 결과 : 10\n",
            "apple&banana&cherry&orange\n",
            "ex2 결과 : 4\n"
          ]
        }
      ],
      "source": [
        "# 예제1\n",
        "txt1 = \"Suppose we have few words that are separated by spaces.\"\n",
        "\n",
        "a = txt1.split()\n",
        "\n",
        "# print(a)\n",
        "print(f'ex1 결과 : {len(a)}')\n",
        "\n",
        "# 예제2\n",
        "txt2 = input() # apple&banana&cherry&orange\n",
        "b = txt2.split(\"&\") # max 값 조절\n",
        "\n",
        "# print(b)\n",
        "print(f'ex2 결과 : {len(b)}')"
      ]
    },
    {
      "cell_type": "markdown",
      "id": "866ce5b7",
      "metadata": {
        "id": "866ce5b7"
      },
      "source": [
        "***"
      ]
    }
  ],
  "metadata": {
    "kernelspec": {
      "display_name": "Python 3 (ipykernel)",
      "language": "python",
      "name": "python3"
    },
    "language_info": {
      "codemirror_mode": {
        "name": "ipython",
        "version": 3
      },
      "file_extension": ".py",
      "mimetype": "text/x-python",
      "name": "python",
      "nbconvert_exporter": "python",
      "pygments_lexer": "ipython3",
      "version": "3.10.5"
    },
    "toc": {
      "base_numbering": 1,
      "nav_menu": {},
      "number_sections": false,
      "sideBar": true,
      "skip_h1_title": false,
      "title_cell": "Table of Contents",
      "title_sidebar": "Contents",
      "toc_cell": false,
      "toc_position": {
        "height": "calc(100% - 180px)",
        "left": "10px",
        "top": "150px",
        "width": "318px"
      },
      "toc_section_display": true,
      "toc_window_display": false
    },
    "colab": {
      "provenance": []
    }
  },
  "nbformat": 4,
  "nbformat_minor": 5
}