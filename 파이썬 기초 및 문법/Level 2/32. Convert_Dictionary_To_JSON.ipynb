{
  "cells": [
    {
      "cell_type": "markdown",
      "id": "c3a88b92",
      "metadata": {
        "id": "c3a88b92"
      },
      "source": [
        "***\n",
        "## 32. Dict 변환 (Convert Dictionary To JSON) 💻\n",
        "***\n",
        "#### **`연습예제`**"
      ]
    },
    {
      "cell_type": "markdown",
      "id": "49b428ae",
      "metadata": {
        "id": "49b428ae"
      },
      "source": [
        "`아래` **`딕셔너리(Dict)`** `을` **`JSON`**  **`형식`** `으로 변환하세요.` **`*힌트를 참고하세요.*`**\n",
        "\n",
        "```python\n",
        "\n",
        "# Dict 선언\n",
        "d = {\"group1\":[\n",
        "                {'name': 'Park', 'age': '32', 'sex': 'Male'},\n",
        "                {'name': 'Cho', 'age': '44', 'sex': 'Female'},\n",
        "                {'name': 'Kang', 'age': '39', 'sex': 'Female', 'married': 'No'}\n",
        "              ],\n",
        "     \"group2\":[\n",
        "                {'name': 'Kim', 'age': '23', 'sex': 'Male', 'married': 'Yes'},\n",
        "                {'name': 'Lee', 'age': '37', 'sex': 'Male', 'married': 'No'}\n",
        "              ],\n",
        "     \"type\" : {\"a\": \"employee\", \"b\": \"officer\", \"c\": \"director\", \"d\": \"manager\", \"e\": \"service provider\"}\n",
        "    }\n",
        "\n",
        "\n",
        "# 결과\n",
        "{\n",
        "    \"group1\": [\n",
        "        {\n",
        "            \"name\": \"Park\",\n",
        "            \"age\": \"32\",\n",
        "            \"sex\": \"Male\"\n",
        "        },\n",
        "        {\n",
        "            \"name\": \"Cho\",\n",
        "            \"age\": \"44\",\n",
        "            \"sex\": \"Female\"\n",
        "        },\n",
        "        {\n",
        "            \"name\": \"Kang\",\n",
        "            \"age\": \"39\",\n",
        "            \"sex\": \"Female\",\n",
        "            \"married\": \"No\"\n",
        "        }\n",
        "    ],\n",
        "    \"group2\": [\n",
        "        {\n",
        "            \"name\": \"Kim\",\n",
        "            \"age\": \"23\",\n",
        "            \"sex\": \"Male\",\n",
        "            \"married\": \"Yes\"\n",
        "        },\n",
        "        {\n",
        "            \"name\": \"Lee\",\n",
        "            \"age\": \"37\",\n",
        "            \"sex\": \"Male\",\n",
        "            \"married\": \"No\"\n",
        "        }\n",
        "    ],\n",
        "    \"type\": {\n",
        "        \"a\": \"employee\",\n",
        "        \"b\": \"officer\",\n",
        "        \"c\": \"director\",\n",
        "        \"d\": \"manager\",\n",
        "        \"e\": \"service provider\"\n",
        "    }\n",
        "}\n",
        "```"
      ]
    },
    {
      "cell_type": "markdown",
      "id": "44d53430",
      "metadata": {
        "id": "44d53430"
      },
      "source": [
        "#### **`코딩영역`**"
      ]
    },
    {
      "cell_type": "code",
      "execution_count": 2,
      "id": "ca1e5a1b",
      "metadata": {
        "colab": {
          "base_uri": "https://localhost:8080/"
        },
        "id": "ca1e5a1b",
        "outputId": "c12db06a-06cc-46b0-974e-0c1d076608fc"
      },
      "outputs": [
        {
          "output_type": "stream",
          "name": "stdout",
          "text": [
            "{\n",
            "    \"group1\": [\n",
            "        {\n",
            "            \"name\": \"Park\",\n",
            "            \"age\": \"32\",\n",
            "            \"sex\": \"Male\"\n",
            "        },\n",
            "        {\n",
            "            \"name\": \"Cho\",\n",
            "            \"age\": \"44\",\n",
            "            \"sex\": \"Female\"\n",
            "        },\n",
            "        {\n",
            "            \"name\": \"Kang\",\n",
            "            \"age\": \"39\",\n",
            "            \"sex\": \"Female\",\n",
            "            \"married\": \"No\"\n",
            "        }\n",
            "    ],\n",
            "    \"group2\": [\n",
            "        {\n",
            "            \"name\": \"Kim\",\n",
            "            \"age\": \"23\",\n",
            "            \"sex\": \"Male\",\n",
            "            \"married\": \"Yes\"\n",
            "        },\n",
            "        {\n",
            "            \"name\": \"Lee\",\n",
            "            \"age\": \"37\",\n",
            "            \"sex\": \"Male\",\n",
            "            \"married\": \"No\"\n",
            "        }\n",
            "    ],\n",
            "    \"type\": {\n",
            "        \"a\": \"employee\",\n",
            "        \"b\": \"officer\",\n",
            "        \"c\": \"director\",\n",
            "        \"d\": \"manager\",\n",
            "        \"e\": \"service provider\"\n",
            "    }\n",
            "}\n"
          ]
        }
      ],
      "source": [
        "d = {\"group1\":[\n",
        "                {'name': 'Park', 'age': '32', 'sex': 'Male'},\n",
        "                {'name': 'Cho', 'age': '44', 'sex': 'Female'},\n",
        "                {'name': 'Kang', 'age': '39', 'sex': 'Female', 'married': 'No'}\n",
        "              ],\n",
        "     \"group2\":[\n",
        "                {'name': 'Kim', 'age': '23', 'sex': 'Male', 'married': 'Yes'},\n",
        "                {'name': 'Lee', 'age': '37', 'sex': 'Male', 'married': 'No'}\n",
        "              ],\n",
        "     \"type\" : {\"a\": \"employee\", \"b\": \"officer\", \"c\": \"director\", \"d\": \"manager\", \"e\": \"service provider\"}\n",
        "    }\n",
        "\n",
        "import json\n",
        "\n",
        "# 방법1\n",
        "json_obj = json.dumps(d, indent=4)\n",
        "\n",
        "print(json_obj)\n",
        "\n",
        "\n",
        "# 방법2\n",
        "with open(\"/content/32-2.json\", \"w\") as out:\n",
        "    json.dump(d, out)"
      ]
    },
    {
      "cell_type": "markdown",
      "id": "866ce5b7",
      "metadata": {
        "id": "866ce5b7"
      },
      "source": [
        "***"
      ]
    }
  ],
  "metadata": {
    "kernelspec": {
      "display_name": "Python 3 (ipykernel)",
      "language": "python",
      "name": "python3"
    },
    "language_info": {
      "codemirror_mode": {
        "name": "ipython",
        "version": 3
      },
      "file_extension": ".py",
      "mimetype": "text/x-python",
      "name": "python",
      "nbconvert_exporter": "python",
      "pygments_lexer": "ipython3",
      "version": "3.10.5"
    },
    "toc": {
      "base_numbering": 1,
      "nav_menu": {},
      "number_sections": false,
      "sideBar": true,
      "skip_h1_title": false,
      "title_cell": "Table of Contents",
      "title_sidebar": "Contents",
      "toc_cell": false,
      "toc_position": {
        "height": "calc(100% - 180px)",
        "left": "10px",
        "top": "150px",
        "width": "318px"
      },
      "toc_section_display": true,
      "toc_window_display": false
    },
    "colab": {
      "provenance": []
    }
  },
  "nbformat": 4,
  "nbformat_minor": 5
}