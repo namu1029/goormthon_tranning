{
  "cells": [
    {
      "cell_type": "markdown",
      "id": "c3a88b92",
      "metadata": {
        "id": "c3a88b92"
      },
      "source": [
        "***\n",
        "## 36. 실행 타임 딜레이2 (Progressive Time Delays to Code) 💻\n",
        "***\n",
        "#### **`연습예제`**"
      ]
    },
    {
      "cell_type": "markdown",
      "id": "49b428ae",
      "metadata": {
        "id": "49b428ae"
      },
      "source": [
        "**`0.5`** `부터` **`3`** `까지` **`0.5초`** `간격으로` **`딜레이`** `를` **`증가`** `하면서` `아래와 같이 출력하세요.`\n",
        "\n",
        "```python\n",
        "\n",
        "# 출력 결과\n",
        "Delayed for 0.5 seconds\n",
        "Delayed for 1 seconds\n",
        "Delayed for 1.5 seconds\n",
        "Delayed for 2 seconds\n",
        "Delayed for 2.5 seconds\n",
        "Delayed for 3 seconds\n",
        "```"
      ]
    },
    {
      "cell_type": "markdown",
      "id": "44d53430",
      "metadata": {
        "id": "44d53430"
      },
      "source": [
        "#### **`코딩영역`**"
      ]
    },
    {
      "cell_type": "code",
      "execution_count": 1,
      "id": "ca1e5a1b",
      "metadata": {
        "colab": {
          "base_uri": "https://localhost:8080/"
        },
        "id": "ca1e5a1b",
        "outputId": "719c02d6-a13e-4f3e-9185-592a0d0e992f"
      },
      "outputs": [
        {
          "name": "stdout",
          "output_type": "stream",
          "text": [
            "Delayed for 0.5 seconds\n",
            "Delayed for 1 seconds\n",
            "Delayed for 1.5 seconds\n",
            "Delayed for 2 seconds\n",
            "Delayed for 2.5 seconds\n",
            "Delayed for 3 seconds\n"
          ]
        }
      ],
      "source": [
        "import time\n",
        "\n",
        "# 방법1\n",
        "for i in [.5, 1, 1.5, 2, 2.5, 3]:\n",
        "  time.sleep(i)\n",
        "  print(f\"Delayed for {i} seconds\")\n",
        "\n",
        "\n",
        "# 방법2\n",
        "# n = .5\n",
        "# while True:\n",
        "#     time.sleep(n)\n",
        "#     print(f\"Delayed for {n} seconds\")\n",
        "#     n += 0.5\n",
        "\n",
        "#     if n >= 3.5:\n",
        "#         break\n",
        "\n",
        "\n",
        "# # 방법3\n",
        "# def sleep_out(n=1):\n",
        "#     print(f\"Delayed for {n} seconds\")\n",
        "#     time.sleep(n)\n",
        "\n",
        "# for n in [.5, 1, 1.5, 2, 2.5, 3]:\n",
        "#     sleep_out(n)"
      ]
    },
    {
      "cell_type": "markdown",
      "id": "866ce5b7",
      "metadata": {
        "id": "866ce5b7"
      },
      "source": [
        "***"
      ]
    }
  ],
  "metadata": {
    "colab": {
      "provenance": []
    },
    "kernelspec": {
      "display_name": "Python 3 (ipykernel)",
      "language": "python",
      "name": "python3"
    },
    "language_info": {
      "codemirror_mode": {
        "name": "ipython",
        "version": 3
      },
      "file_extension": ".py",
      "mimetype": "text/x-python",
      "name": "python",
      "nbconvert_exporter": "python",
      "pygments_lexer": "ipython3",
      "version": "3.10.5"
    },
    "toc": {
      "base_numbering": 1,
      "nav_menu": {},
      "number_sections": false,
      "sideBar": true,
      "skip_h1_title": false,
      "title_cell": "Table of Contents",
      "title_sidebar": "Contents",
      "toc_cell": false,
      "toc_position": {
        "height": "calc(100% - 180px)",
        "left": "10px",
        "top": "150px",
        "width": "318px"
      },
      "toc_section_display": true,
      "toc_window_display": false
    }
  },
  "nbformat": 4,
  "nbformat_minor": 5
}
