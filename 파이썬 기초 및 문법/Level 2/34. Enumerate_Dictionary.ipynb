{
  "cells": [
    {
      "cell_type": "markdown",
      "id": "c3a88b92",
      "metadata": {
        "id": "c3a88b92"
      },
      "source": [
        "***\n",
        "## 34. Dict 반복문 활용 (Enumerate Dictionary) 💻\n",
        "***\n",
        "#### **`연습예제`**"
      ]
    },
    {
      "cell_type": "markdown",
      "id": "49b428ae",
      "metadata": {
        "id": "49b428ae"
      },
      "source": [
        "`아래` **`한 개의`** **`리스트(List)`** `를` **`딕셔너리(Dict)`**  **`형식`** `으로 변환하세요.` **`*다양한 방법으로 시도하세요.*`**\n",
        "\n",
        "```python\n",
        "\n",
        "# 리스트\n",
        "l = [\"Red\", \"Green\", \"Black\", \"Blue\", \"Orange\", \"Purple\"]\n",
        "\n",
        "\n",
        "# 변환 결과1\n",
        "{ 0: \"Red\", 1: \"Green\", 2: \"Black\", 3: \"Blue\", 4: \"Orange\", 5: \"Purple\" }\n",
        "\n",
        "# 변환 결과2\n",
        "{ 100: \"Red\", 101: \"Green\", 102: \"Black\", 103: \"Blue\", 104: \"Orange\", 105: \"Purple\" }\n",
        "```"
      ]
    },
    {
      "cell_type": "markdown",
      "id": "44d53430",
      "metadata": {
        "id": "44d53430"
      },
      "source": [
        "#### **`코딩영역`**"
      ]
    },
    {
      "cell_type": "code",
      "execution_count": 1,
      "id": "ca1e5a1b",
      "metadata": {
        "colab": {
          "base_uri": "https://localhost:8080/"
        },
        "id": "ca1e5a1b",
        "outputId": "ef4aea06-510f-4661-e21c-74f6299fa561"
      },
      "outputs": [
        {
          "name": "stdout",
          "output_type": "stream",
          "text": [
            "{0: 'Red', 1: 'Green', 2: 'Black', 3: 'Blue', 4: 'Orange', 5: 'Purple'}\n",
            "{100: 'Red', 101: 'Green', 102: 'Black', 103: 'Blue', 104: 'Orange', 105: 'Purple'}\n"
          ]
        }
      ],
      "source": [
        "l = [\"Red\", \"Green\", \"Black\", \"Blue\", \"Orange\", \"Purple\"]\n",
        "\n",
        "# 출력1\n",
        "d1 = dict(enumerate(l)) # tuple 확인\n",
        "\n",
        "print(d1)\n",
        "\n",
        "# 출력2\n",
        "d2 = dict(enumerate(l, start=100))\n",
        "\n",
        "print(d2)"
      ]
    },
    {
      "cell_type": "markdown",
      "id": "866ce5b7",
      "metadata": {
        "id": "866ce5b7"
      },
      "source": [
        "***"
      ]
    }
  ],
  "metadata": {
    "colab": {
      "provenance": []
    },
    "kernelspec": {
      "display_name": "Python 3 (ipykernel)",
      "language": "python",
      "name": "python3"
    },
    "language_info": {
      "codemirror_mode": {
        "name": "ipython",
        "version": 3
      },
      "file_extension": ".py",
      "mimetype": "text/x-python",
      "name": "python",
      "nbconvert_exporter": "python",
      "pygments_lexer": "ipython3",
      "version": "3.9.12"
    },
    "toc": {
      "base_numbering": 1,
      "nav_menu": {},
      "number_sections": false,
      "sideBar": true,
      "skip_h1_title": false,
      "title_cell": "Table of Contents",
      "title_sidebar": "Contents",
      "toc_cell": false,
      "toc_position": {
        "height": "calc(100% - 180px)",
        "left": "10px",
        "top": "150px",
        "width": "318px"
      },
      "toc_section_display": true,
      "toc_window_display": false
    }
  },
  "nbformat": 4,
  "nbformat_minor": 5
}
