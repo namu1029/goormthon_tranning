{
  "cells": [
    {
      "cell_type": "markdown",
      "id": "c3a88b92",
      "metadata": {
        "id": "c3a88b92"
      },
      "source": [
        "***\n",
        "## 22. 문자열 파싱2 (String Split By Delimiter(Advanced)) 💻\n",
        "***\n",
        "#### **`연습예제`**"
      ]
    },
    {
      "cell_type": "markdown",
      "id": "49b428ae",
      "metadata": {
        "id": "49b428ae"
      },
      "source": [
        "**`/source`** **`폴더의 22-2.txt`** `파일을` **`공백 구분 후`** `단어 개수를 출력하는` **`함수`** `를 작성 후 실행하세요.` **`*콤마의 경우 두 단어로 취급*`**\n",
        "\n",
        "\n",
        "```python\n",
        "# Hi! Kim,Eun 의 경우 -> 3개\n",
        "\n",
        "in_str = \"/content/22-1.txt\"\n",
        "\n",
        "출력 결과 : 72\n",
        "```"
      ]
    },
    {
      "cell_type": "markdown",
      "id": "44d53430",
      "metadata": {
        "id": "44d53430"
      },
      "source": [
        "#### **`코딩영역`**"
      ]
    },
    {
      "cell_type": "code",
      "execution_count": 2,
      "id": "ca1e5a1b",
      "metadata": {
        "colab": {
          "base_uri": "https://localhost:8080/"
        },
        "id": "ca1e5a1b",
        "outputId": "83182072-f2c6-4e52-93b0-e22d176ceac8"
      },
      "outputs": [
        {
          "name": "stdout",
          "output_type": "stream",
          "text": [
            "ex1 결과 : 72\n",
            "ex2 결과 : 72\n"
          ]
        }
      ],
      "source": [
        "# 방법1\n",
        "def cnt_word1(filepath):\n",
        "    with open(filepath, 'r') as file:\n",
        "        txt = file.read()\n",
        "    txt = txt.replace(\",\", \" \") # 쉼표 제거 확인(\",\"를 공백으로 변환)\n",
        "\n",
        "    # print(txt)\n",
        "\n",
        "    txt_list = txt.split(\" \") # 리스트 변환(공백)\n",
        "\n",
        "    # print(txt_list)\n",
        "\n",
        "    return len(txt_list)\n",
        "\n",
        "print(f'ex1 결과 : {cnt_word1(\"/content/22-1.txt\")}')\n",
        "\n",
        "\n",
        "# 방법2\n",
        "import re\n",
        "\n",
        "def cnt_word2(filepath):\n",
        "    with open(filepath, 'r') as file:\n",
        "        txt = file.read()\n",
        "\n",
        "    # 정규표현식 사용\n",
        "    txt_list = re.split(\" |,\", txt) # | -> 구분\n",
        "    # 리스트 변환(공백 + 콤마)\n",
        "\n",
        "    # print(txt_list)\n",
        "\n",
        "    return len(txt_list)\n",
        "\n",
        "print(f'ex2 결과 : {cnt_word2(\"/content/22-1.txt\")}')"
      ]
    },
    {
      "cell_type": "markdown",
      "id": "866ce5b7",
      "metadata": {
        "id": "866ce5b7"
      },
      "source": [
        "***"
      ]
    }
  ],
  "metadata": {
    "colab": {
      "provenance": []
    },
    "kernelspec": {
      "display_name": "Python 3 (ipykernel)",
      "language": "python",
      "name": "python3"
    },
    "language_info": {
      "codemirror_mode": {
        "name": "ipython",
        "version": 3
      },
      "file_extension": ".py",
      "mimetype": "text/x-python",
      "name": "python",
      "nbconvert_exporter": "python",
      "pygments_lexer": "ipython3",
      "version": "3.10.5"
    },
    "toc": {
      "base_numbering": 1,
      "nav_menu": {},
      "number_sections": false,
      "sideBar": true,
      "skip_h1_title": false,
      "title_cell": "Table of Contents",
      "title_sidebar": "Contents",
      "toc_cell": false,
      "toc_position": {
        "height": "calc(100% - 180px)",
        "left": "10px",
        "top": "150px",
        "width": "318px"
      },
      "toc_section_display": true,
      "toc_window_display": false
    }
  },
  "nbformat": 4,
  "nbformat_minor": 5
}
