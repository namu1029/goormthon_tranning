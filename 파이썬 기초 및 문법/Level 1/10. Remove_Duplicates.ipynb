{
  "cells": [
    {
      "cell_type": "markdown",
      "id": "c3a88b92",
      "metadata": {
        "id": "c3a88b92"
      },
      "source": [
        "***\n",
        "## 10. 중복 제거 (Remove Duplicates) 💻\n",
        "***\n",
        "#### **`연습예제`**"
      ]
    },
    {
      "cell_type": "markdown",
      "id": "49b428ae",
      "metadata": {
        "id": "49b428ae"
      },
      "source": [
        "`아래와 리스트에서` **`중복`** `되는` **`원소`** `를` `제거 후 출력하세요.`  **`다양한 방법`** `코딩하세요.`\n",
        "\n",
        "\n",
        "\n",
        "```python\n",
        "x = [\"a\", 1, \"b\", 2, \"a\", 3, \"b\", 4, 5, \"b\"]\n",
        "출력 결과 : [1, 2, 3, 4, 5, 'a', 'b']\n",
        "```"
      ]
    },
    {
      "cell_type": "markdown",
      "id": "44d53430",
      "metadata": {
        "id": "44d53430"
      },
      "source": [
        "#### **`코딩영역`**"
      ]
    },
    {
      "cell_type": "code",
      "execution_count": 1,
      "id": "ca1e5a1b",
      "metadata": {
        "colab": {
          "base_uri": "https://localhost:8080/"
        },
        "id": "ca1e5a1b",
        "outputId": "f0f1641c-8067-488e-aaac-d8d73a47b7a5"
      },
      "outputs": [
        {
          "output_type": "stream",
          "name": "stdout",
          "text": [
            "[1, 2, 3, 4, 5, 'b', 'a']\n",
            "['a', 1, 'b', 2, 3, 4, 5]\n",
            "['a', 1, 'b', 2, 3, 4, 5]\n"
          ]
        }
      ],
      "source": [
        "# 방법1\n",
        "x = [\"a\", 1, \"b\", 2, \"a\", 3, \"b\", 4, 5, \"b\"]\n",
        "ex1 = list(set(x))\n",
        "\n",
        "print(ex1)\n",
        "\n",
        "# 방법2 (순서 유지)\n",
        "from collections import OrderedDict\n",
        "ex2 = list(OrderedDict.fromkeys(x))\n",
        "\n",
        "print(ex2)\n",
        "\n",
        "# 방법3 (순서 유지)\n",
        "ex3 = []\n",
        "for i in x:\n",
        "  if i not in ex3:\n",
        "    ex3.append(i)\n",
        "\n",
        "print(ex3)"
      ]
    },
    {
      "cell_type": "markdown",
      "id": "e48cce26",
      "metadata": {
        "id": "e48cce26"
      },
      "source": [
        "#### **`Hint`**"
      ]
    },
    {
      "cell_type": "markdown",
      "id": "fc2ea9eb",
      "metadata": {
        "id": "fc2ea9eb"
      },
      "source": [
        "<details>\n",
        "    <summary>▶<b>여기</b>를 눌러주세요</summary>\n",
        "<div markdown=\"1\">       \n",
        "\n",
        "```python\n",
        "# Set(집합 자료형) : 중복 허용 하지 않음, 순서 없음\n",
        "# List, Tuple : 순서 있음, 중복 허용\n",
        "# OrderedDict : Dict 순서 보장 받을 수 있음(python 3.6 부터는 기본값)\n",
        "```\n",
        "</div>\n",
        "</details>"
      ]
    }
  ],
  "metadata": {
    "kernelspec": {
      "display_name": "Python 3 (ipykernel)",
      "language": "python",
      "name": "python3"
    },
    "language_info": {
      "codemirror_mode": {
        "name": "ipython",
        "version": 3
      },
      "file_extension": ".py",
      "mimetype": "text/x-python",
      "name": "python",
      "nbconvert_exporter": "python",
      "pygments_lexer": "ipython3",
      "version": "3.10.5"
    },
    "toc": {
      "base_numbering": 1,
      "nav_menu": {},
      "number_sections": false,
      "sideBar": true,
      "skip_h1_title": false,
      "title_cell": "Table of Contents",
      "title_sidebar": "Contents",
      "toc_cell": false,
      "toc_position": {
        "height": "calc(100% - 180px)",
        "left": "10px",
        "top": "150px",
        "width": "318px"
      },
      "toc_section_display": true,
      "toc_window_display": false
    },
    "colab": {
      "provenance": []
    }
  },
  "nbformat": 4,
  "nbformat_minor": 5
}