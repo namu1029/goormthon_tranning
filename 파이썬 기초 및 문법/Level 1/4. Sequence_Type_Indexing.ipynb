{
  "cells": [
    {
      "cell_type": "markdown",
      "id": "c3a88b92",
      "metadata": {
        "id": "c3a88b92"
      },
      "source": [
        "***\n",
        "## 4. 시퀀스 타입 인덱싱 (Sequence Type Indexing) 💻\n",
        "***\n",
        "#### **`연습예제`**"
      ]
    },
    {
      "cell_type": "markdown",
      "id": "49b428ae",
      "metadata": {
        "id": "49b428ae"
      },
      "source": [
        "`아래 리스트(List)에서` **`index 함수`** `를 포함한 다양한 방법으로` **`\"Banana\"`** `를 인덱싱(추출) 해보세요.` `출력 결과와 같아야 되요.`\n",
        "\n",
        "\n",
        "```python\n",
        "# 직접 접근, index함수 사용 가능\n",
        "x = ['Orange', 'Cherry', 'Apple', 'Kiwi', 'Banana', 'Strawberry']\n",
        "\n",
        "출력 결과 : Banana\n",
        "```"
      ]
    },
    {
      "cell_type": "markdown",
      "id": "44d53430",
      "metadata": {
        "id": "44d53430"
      },
      "source": [
        "#### **`코딩영역`**"
      ]
    },
    {
      "cell_type": "code",
      "execution_count": 1,
      "id": "ca1e5a1b",
      "metadata": {
        "colab": {
          "base_uri": "https://localhost:8080/"
        },
        "id": "ca1e5a1b",
        "outputId": "346e87f7-274e-48d7-f2de-652e3d3bd972"
      },
      "outputs": [
        {
          "name": "stdout",
          "output_type": "stream",
          "text": [
            "Banana\n"
          ]
        }
      ],
      "source": [
        "x = ['Orange', 'Cherry', 'Apple', 'Kiwi', 'Banana', 'Strawberry']\n",
        "\n",
        "print(x[4])"
      ]
    },
    {
      "cell_type": "markdown",
      "id": "e48cce26",
      "metadata": {
        "id": "e48cce26"
      },
      "source": [
        "#### **`결과 & 보충설명`**"
      ]
    },
    {
      "cell_type": "code",
      "execution_count": 3,
      "id": "2f6bXbSUeDdd",
      "metadata": {
        "colab": {
          "base_uri": "https://localhost:8080/"
        },
        "id": "2f6bXbSUeDdd",
        "outputId": "d280bb01-8490-460a-e409-bb28913e1819"
      },
      "outputs": [
        {
          "name": "stdout",
          "output_type": "stream",
          "text": [
            "결과 : Banana\n",
            "결과 :  4\n",
            "결과 :  True\n",
            "결과 : Banana\n",
            "결과 : Banana\n"
          ]
        }
      ],
      "source": [
        "# 슬라이싱, index함수 사용 가능\n",
        "x = ['Orange', 'Cherry', 'Apple', 'Kiwi', 'Banana', 'Strawberry']\n",
        "\n",
        "print(f'결과 : {x[4]}')\n",
        "print('결과 : ', x.index('Banana')) # 인덱스 확인\n",
        "print('결과 : ', 'Banana' in x) # 값 포함 여부 확인\n",
        "print('결과 :', x[x.index('Banana')])\n",
        "print('결과 :', x[x.index('Banana', 0, len(x))]) # 시작 지점(0) ~ 끝 지점 까지 포함 되어 있는지"
      ]
    },
    {
      "cell_type": "markdown",
      "id": "866ce5b7",
      "metadata": {
        "id": "866ce5b7"
      },
      "source": [
        "***"
      ]
    }
  ],
  "metadata": {
    "colab": {
      "provenance": []
    },
    "kernelspec": {
      "display_name": "Python 3 (ipykernel)",
      "language": "python",
      "name": "python3"
    },
    "language_info": {
      "codemirror_mode": {
        "name": "ipython",
        "version": 3
      },
      "file_extension": ".py",
      "mimetype": "text/x-python",
      "name": "python",
      "nbconvert_exporter": "python",
      "pygments_lexer": "ipython3",
      "version": "3.9.12"
    },
    "toc": {
      "base_numbering": 1,
      "nav_menu": {},
      "number_sections": false,
      "sideBar": true,
      "skip_h1_title": false,
      "title_cell": "Table of Contents",
      "title_sidebar": "Contents",
      "toc_cell": false,
      "toc_position": {
        "height": "calc(100% - 180px)",
        "left": "10px",
        "top": "150px",
        "width": "318px"
      },
      "toc_section_display": true,
      "toc_window_display": false
    }
  },
  "nbformat": 4,
  "nbformat_minor": 5
}
