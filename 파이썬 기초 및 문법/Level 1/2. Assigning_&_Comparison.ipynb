{
  "cells": [
    {
      "cell_type": "markdown",
      "id": "c3a88b92",
      "metadata": {
        "id": "c3a88b92"
      },
      "source": [
        "***\n",
        "## 2. 할당 및 비교 (Assigning & Comparison) 💻\n",
        "***\n",
        "#### **`연습예제1`**"
      ]
    },
    {
      "cell_type": "markdown",
      "id": "49b428ae",
      "metadata": {
        "id": "49b428ae"
      },
      "source": [
        "`아래 파이썬 코드의 결과 값을` **`True or False`**  `값을 예상하고 아래 코딩영역에 작성하세요.`\n",
        "\n",
        "```python\n",
        "x = 15\n",
        "y = 25\n",
        "\n",
        "print(f'x == y : {x == y}')\n",
        "print(f'x is y : {x is y}')\n",
        "\n",
        "# print(f'x value, id : {x}, {hex(id(x))}')\n",
        "# print(f'y value, id : {y}, {hex(id(y))}')\n",
        "```"
      ]
    },
    {
      "cell_type": "markdown",
      "id": "44d53430",
      "metadata": {
        "id": "44d53430"
      },
      "source": [
        "#### **`코딩영역1`**"
      ]
    },
    {
      "cell_type": "code",
      "execution_count": 1,
      "id": "ca1e5a1b",
      "metadata": {
        "colab": {
          "base_uri": "https://localhost:8080/"
        },
        "id": "ca1e5a1b",
        "outputId": "ef8c62f0-aeaa-4bf4-a4d5-22600a1a67b7"
      },
      "outputs": [
        {
          "output_type": "stream",
          "name": "stdout",
          "text": [
            "x == y : False\n",
            "x is y : False\n"
          ]
        }
      ],
      "source": [
        "x = 15\n",
        "y = 25\n",
        "\n",
        "print(f'x == y : {x == y}')\n",
        "print(f'x is y : {x is y}')\n",
        "# 값이 다르기 때문에 객체도 다름"
      ]
    },
    {
      "cell_type": "markdown",
      "id": "10a973a4",
      "metadata": {
        "id": "10a973a4"
      },
      "source": [
        "***\n",
        "#### **`연습예제2`**"
      ]
    },
    {
      "cell_type": "markdown",
      "id": "fd63e590",
      "metadata": {
        "id": "fd63e590"
      },
      "source": [
        "`아래 파이썬 코드의 결과 값을` **`True or False`**  `값을 예상하고 아래 코딩영역에 작성하세요.`\n",
        "\n",
        "```python\n",
        "x = ['orange', 'banana', 'apple']\n",
        "y = x\n",
        "\n",
        "print(f'x == y : {x == y}')\n",
        "print(f'x is y : {x is y}')\n",
        "\n",
        "# print(f'x value, id : {x}, {hex(id(x))}')\n",
        "# print(f'y value, id : {y}, {hex(id(y))}')\n",
        "```"
      ]
    },
    {
      "cell_type": "markdown",
      "id": "9c75ec30",
      "metadata": {
        "id": "9c75ec30"
      },
      "source": [
        "#### **`코딩영역2`**"
      ]
    },
    {
      "cell_type": "code",
      "execution_count": 4,
      "id": "4b01f68a",
      "metadata": {
        "colab": {
          "base_uri": "https://localhost:8080/"
        },
        "id": "4b01f68a",
        "outputId": "c7b2f8eb-3015-4d1f-e3b0-e695fcc8ad11"
      },
      "outputs": [
        {
          "output_type": "stream",
          "name": "stdout",
          "text": [
            "x == y : True\n",
            "x is y : True\n",
            "x value, id : ['orange', 'banana', 'apple'], 0x7d199f04e640\n",
            "y value, id : ['orange', 'banana', 'apple'], 0x7d199f04e640\n"
          ]
        }
      ],
      "source": [
        "x = ['orange', 'banana', 'apple']\n",
        "y = x # x의 리스트를 y에 대입\n",
        "\n",
        "print(f'x == y : {x == y}')\n",
        "print(f'x is y : {x is y}')\n",
        "\n",
        "# 증명\n",
        "print(f'x value, id : {x}, {hex(id(x))}')\n",
        "print(f'y value, id : {y}, {hex(id(y))}')"
      ]
    },
    {
      "cell_type": "markdown",
      "id": "137c671e",
      "metadata": {
        "id": "137c671e"
      },
      "source": [
        "***\n",
        "#### **`연습예제3`**"
      ]
    },
    {
      "cell_type": "markdown",
      "id": "88c9272e",
      "metadata": {
        "id": "88c9272e"
      },
      "source": [
        "`아래 파이썬 코드의 결과 값을` **`True or False`**  `값을 예상하고 아래 코딩영역에 작성하세요.`\n",
        "\n",
        "```python\n",
        "x = ['orange', 'banana', 'apple']\n",
        "y = ['orange', 'banana', 'apple']\n",
        "\n",
        "print(f'x == y : {x == y}')\n",
        "print(f'x is y : {x is y}')\n",
        "\n",
        "# print(f'x value, id : {x}, {hex(id(x))}')\n",
        "# print(f'y value, id : {y}, {hex(id(y))}')\n",
        "```"
      ]
    },
    {
      "cell_type": "markdown",
      "id": "3396ebce",
      "metadata": {
        "id": "3396ebce"
      },
      "source": [
        "#### **`코딩영역3`**"
      ]
    },
    {
      "cell_type": "code",
      "execution_count": 6,
      "id": "a17d2330",
      "metadata": {
        "colab": {
          "base_uri": "https://localhost:8080/"
        },
        "id": "a17d2330",
        "outputId": "f9990a24-f82a-46cd-a1d3-6566674efb26"
      },
      "outputs": [
        {
          "output_type": "stream",
          "name": "stdout",
          "text": [
            "x == y : True\n",
            "x is y : False\n",
            "x value, id : ['orange', 'banana', 'apple'], 0x7d199e1b3380\n",
            "y value, id : ['orange', 'banana', 'apple'], 0x7d199f104c80\n"
          ]
        }
      ],
      "source": [
        "x = ['orange', 'banana', 'apple']\n",
        "y = ['orange', 'banana', 'apple']\n",
        "\n",
        "print(f'x == y : {x == y}')\n",
        "print(f'x is y : {x is y}')\n",
        "\n",
        "# 증명\n",
        "print(f'x value, id : {x}, {hex(id(x))}')\n",
        "print(f'y value, id : {y}, {hex(id(y))}')\n",
        "# 서로 다른 공간에 할당 되어 있음 -> 객체는 다르다!"
      ]
    },
    {
      "cell_type": "markdown",
      "id": "e48cce26",
      "metadata": {
        "id": "e48cce26"
      },
      "source": [
        "#### **`결과 & 보충설명`**"
      ]
    },
    {
      "cell_type": "code",
      "source": [
        "a = 15\n",
        "b = 25\n",
        "\n",
        "print(f'결과1 > a == b : {a == b}')\n",
        "print(f'결과1 > a is b : {a is b}')\n",
        "\n",
        "print()\n",
        "\n",
        "c = []\n",
        "d = c\n",
        "e = c + d\n",
        "\n",
        "print(f'결과2 > c == d : {c == d}')\n",
        "print(f'결과2 > c is d : {c is d}')\n",
        "\n",
        "print(f'결과2 > c == e : {c == e}')\n",
        "print(f'결과2 > c is e : {c is e}') # 중요\n",
        "print()\n",
        "\n",
        "# 증명\n",
        "print(f'c value, id : {c}, {hex(id(c))}')\n",
        "print(f'd value, id : {d}, {hex(id(d))}')\n",
        "print(f'c value, id : {e}, {hex(id(e))}')"
      ],
      "metadata": {
        "colab": {
          "base_uri": "https://localhost:8080/"
        },
        "id": "tWPPId_UZXKv",
        "outputId": "f4a0cc02-c58b-4243-aed2-a325acd83935"
      },
      "id": "tWPPId_UZXKv",
      "execution_count": 9,
      "outputs": [
        {
          "output_type": "stream",
          "name": "stdout",
          "text": [
            "False\n",
            "False\n",
            "True\n",
            "True\n",
            "True\n",
            "False\n",
            "x value, id : [], 0x7d19701dc840\n",
            "y value, id : [], 0x7d19701dd1c0\n"
          ]
        }
      ]
    },
    {
      "cell_type": "markdown",
      "id": "866ce5b7",
      "metadata": {
        "id": "866ce5b7"
      },
      "source": [
        "***"
      ]
    }
  ],
  "metadata": {
    "kernelspec": {
      "display_name": "Python 3 (ipykernel)",
      "language": "python",
      "name": "python3"
    },
    "language_info": {
      "codemirror_mode": {
        "name": "ipython",
        "version": 3
      },
      "file_extension": ".py",
      "mimetype": "text/x-python",
      "name": "python",
      "nbconvert_exporter": "python",
      "pygments_lexer": "ipython3",
      "version": "3.10.5"
    },
    "toc": {
      "base_numbering": 1,
      "nav_menu": {},
      "number_sections": false,
      "sideBar": true,
      "skip_h1_title": false,
      "title_cell": "Table of Contents",
      "title_sidebar": "Contents",
      "toc_cell": false,
      "toc_position": {
        "height": "calc(100% - 180px)",
        "left": "10px",
        "top": "150px",
        "width": "318px"
      },
      "toc_section_display": true,
      "toc_window_display": false
    },
    "colab": {
      "provenance": []
    }
  },
  "nbformat": 4,
  "nbformat_minor": 5
}