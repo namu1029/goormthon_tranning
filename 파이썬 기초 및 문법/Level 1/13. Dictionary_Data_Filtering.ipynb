{
  "cells": [
    {
      "cell_type": "markdown",
      "id": "c3a88b92",
      "metadata": {
        "id": "c3a88b92"
      },
      "source": [
        "***\n",
        "## 13. Dict 데이터 필터링 (Dictionary Data Filtering) 💻\n",
        "***\n",
        "#### **`연습예제`**"
      ]
    },
    {
      "cell_type": "markdown",
      "id": "49b428ae",
      "metadata": {
        "id": "49b428ae"
      },
      "source": [
        "`아래와 같은` **`딕셔너리`** `구조에서` **`Value 값이 25 이상`** `필터링 후 출력하세요.` **`다양한 방법`** `으로 코딩하세요.`\n",
        "\n",
        "\n",
        "\n",
        "```python\n",
        "d = {'a': 8, 'b': 33, 'c': 15, 'd': 26, 'e': 12, 'f': 120}\n",
        "출력 결과 : {'b': 33, 'd': 26, 'f': 120}\n",
        "```"
      ]
    },
    {
      "cell_type": "markdown",
      "id": "44d53430",
      "metadata": {
        "id": "44d53430"
      },
      "source": [
        "#### **`코딩영역`**"
      ]
    },
    {
      "cell_type": "code",
      "execution_count": 3,
      "id": "ca1e5a1b",
      "metadata": {
        "colab": {
          "base_uri": "https://localhost:8080/"
        },
        "id": "ca1e5a1b",
        "outputId": "682f98c7-8f83-451d-94db-6439b8002236"
      },
      "outputs": [
        {
          "output_type": "stream",
          "name": "stdout",
          "text": [
            "{'b': 33, 'd': 26, 'f': 120}\n",
            "{'b': 33, 'd': 26, 'f': 120}\n",
            "{'b': 33, 'd': 26, 'f': 120}\n"
          ]
        }
      ],
      "source": [
        "d = {'a': 8, 'b': 33, 'c': 15, 'd': 26, 'e': 12, 'f': 120}\n",
        "\n",
        "# 방법1\n",
        "ex1 = {}\n",
        "for k, v in d.items():\n",
        "  if v >= 25:\n",
        "    ex1[k] = v\n",
        "\n",
        "print(ex1)\n",
        "\n",
        "# 방법2\n",
        "ex2 = {k : v for k, v in d.items() if v >= 25} # tuple형\n",
        "#print(dict(((k,v) for k, v in d.items() if v >= 25)))\n",
        "\n",
        "print(ex2)\n",
        "\n",
        "# 방법3\n",
        "ex3 = dict(filter(lambda v: v[1] >= 25, d.items())) # Dict comprehension\n",
        "\n",
        "print(ex3)"
      ]
    },
    {
      "cell_type": "markdown",
      "id": "866ce5b7",
      "metadata": {
        "id": "866ce5b7"
      },
      "source": [
        "***"
      ]
    }
  ],
  "metadata": {
    "kernelspec": {
      "display_name": "Python 3 (ipykernel)",
      "language": "python",
      "name": "python3"
    },
    "language_info": {
      "codemirror_mode": {
        "name": "ipython",
        "version": 3
      },
      "file_extension": ".py",
      "mimetype": "text/x-python",
      "name": "python",
      "nbconvert_exporter": "python",
      "pygments_lexer": "ipython3",
      "version": "3.10.5"
    },
    "toc": {
      "base_numbering": 1,
      "nav_menu": {},
      "number_sections": false,
      "sideBar": true,
      "skip_h1_title": false,
      "title_cell": "Table of Contents",
      "title_sidebar": "Contents",
      "toc_cell": false,
      "toc_position": {
        "height": "calc(100% - 180px)",
        "left": "10px",
        "top": "150px",
        "width": "318px"
      },
      "toc_section_display": true,
      "toc_window_display": false
    },
    "colab": {
      "provenance": []
    }
  },
  "nbformat": 4,
  "nbformat_minor": 5
}