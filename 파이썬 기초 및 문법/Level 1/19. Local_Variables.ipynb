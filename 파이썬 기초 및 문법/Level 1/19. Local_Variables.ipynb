{
  "cells": [
    {
      "cell_type": "markdown",
      "id": "c3a88b92",
      "metadata": {
        "id": "c3a88b92"
      },
      "source": [
        "***\n",
        "## 19. 지역 변수 (Local Variables) 💻\n",
        "***\n",
        "#### **`연습예제`**"
      ]
    },
    {
      "cell_type": "markdown",
      "id": "49b428ae",
      "metadata": {
        "id": "49b428ae"
      },
      "source": [
        "`아래` **`함수 실행 후`** **`step1, step2, step3`** `결과를` **`예측`** `해보세요.`\n",
        "\n",
        "\n",
        "\n",
        "```python\n",
        "a = 20\n",
        "\n",
        "def test():\n",
        "    # 지역변수\n",
        "    a = 35\n",
        "    return a\n",
        "\n",
        "print('step1 : ', a)\n",
        "\n",
        "a = 100\n",
        "\n",
        "print('step2 : ', a)\n",
        "print('step3 : ', test())\n",
        "```"
      ]
    },
    {
      "cell_type": "markdown",
      "id": "44d53430",
      "metadata": {
        "id": "44d53430"
      },
      "source": [
        "#### **`코딩영역`**"
      ]
    },
    {
      "cell_type": "code",
      "execution_count": 2,
      "id": "ca1e5a1b",
      "metadata": {
        "colab": {
          "base_uri": "https://localhost:8080/"
        },
        "id": "ca1e5a1b",
        "outputId": "58f39430-2181-45fe-d617-9dc4b8def1c4"
      },
      "outputs": [
        {
          "output_type": "stream",
          "name": "stdout",
          "text": [
            "step2 : 20\n",
            "step3 : 100\n",
            "step1 : 100\n",
            "step4 : 35\n",
            "step5 : 35\n"
          ]
        }
      ],
      "source": [
        "a = 20\n",
        "\n",
        "def test():\n",
        "    global a\n",
        "    # 출력 값 이해 필요\n",
        "    print(f'step1 : {a}')\n",
        "\n",
        "    a = 35\n",
        "    return a\n",
        "\n",
        "print(f'step2 : {a}')\n",
        "\n",
        "a = 100\n",
        "\n",
        "print(f'step3 : {a}')\n",
        "print(f'step4 : {test()}') #실행 후 a의 값이 35로 변경\n",
        "# 출력 값 이해 필요\n",
        "print(f'step5 : {a}')"
      ]
    },
    {
      "cell_type": "markdown",
      "id": "866ce5b7",
      "metadata": {
        "id": "866ce5b7"
      },
      "source": [
        "***"
      ]
    }
  ],
  "metadata": {
    "kernelspec": {
      "display_name": "Python 3 (ipykernel)",
      "language": "python",
      "name": "python3"
    },
    "language_info": {
      "codemirror_mode": {
        "name": "ipython",
        "version": 3
      },
      "file_extension": ".py",
      "mimetype": "text/x-python",
      "name": "python",
      "nbconvert_exporter": "python",
      "pygments_lexer": "ipython3",
      "version": "3.10.5"
    },
    "toc": {
      "base_numbering": 1,
      "nav_menu": {},
      "number_sections": false,
      "sideBar": true,
      "skip_h1_title": false,
      "title_cell": "Table of Contents",
      "title_sidebar": "Contents",
      "toc_cell": false,
      "toc_position": {
        "height": "calc(100% - 180px)",
        "left": "10px",
        "top": "150px",
        "width": "318px"
      },
      "toc_section_display": true,
      "toc_window_display": false
    },
    "colab": {
      "provenance": []
    }
  },
  "nbformat": 4,
  "nbformat_minor": 5
}