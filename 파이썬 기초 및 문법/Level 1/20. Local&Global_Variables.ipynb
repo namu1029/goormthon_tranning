{
  "cells": [
    {
      "cell_type": "markdown",
      "id": "c3a88b92",
      "metadata": {
        "id": "c3a88b92"
      },
      "source": [
        "***\n",
        "## 20. 지역 & 전역 변수 (Local & Global Variables) 💻\n",
        "***\n",
        "#### **`연습예제`** 💻"
      ]
    },
    {
      "cell_type": "markdown",
      "id": "49b428ae",
      "metadata": {
        "id": "49b428ae"
      },
      "source": [
        "`아래` **`함수 실행 후`** **`Step1, Step2 -> a, b, x, y`** `결과를` **`예측`** `해보세요.`\n",
        "\n",
        "\n",
        "\n",
        "```python\n",
        "def test(x, y):\n",
        "    global a\n",
        "    a = 49\n",
        "    x,y = y,x\n",
        "    b = 53\n",
        "    b = 7\n",
        "    c = 135\n",
        "    # 예상1\n",
        "    print('Step1 : ', a, b, x, y)\n",
        "\n",
        "a, b, x, y = 8, 13, 33,44\n",
        "\n",
        "# 함수 실행\n",
        "test(23, 7)\n",
        "\n",
        "# 예상2\n",
        "print('Step2 : ', a, b, x, y)\n",
        "```"
      ]
    },
    {
      "cell_type": "markdown",
      "id": "44d53430",
      "metadata": {
        "id": "44d53430"
      },
      "source": [
        "#### **`코딩영역`**"
      ]
    },
    {
      "cell_type": "code",
      "execution_count": 1,
      "id": "ca1e5a1b",
      "metadata": {
        "colab": {
          "base_uri": "https://localhost:8080/"
        },
        "id": "ca1e5a1b",
        "outputId": "07b3264b-9982-47d1-d331-0232c34c061f"
      },
      "outputs": [
        {
          "output_type": "stream",
          "name": "stdout",
          "text": [
            "Ex1 결과 : (135, 7, 7, 23)\n",
            "Ex2 결과 : (135, 13, 33, 44)\n"
          ]
        }
      ],
      "source": [
        "def test(x, y):\n",
        "    global a\n",
        "    a = 49\n",
        "    x,y = y,x\n",
        "    b = 53 # global b 변경 후 테스트\n",
        "    b = 7\n",
        "    a = 135\n",
        "    # 예상1\n",
        "    print(f'Ex1 결과 : {a, b, x, y}')\n",
        "\n",
        "a, b, x, y = 8, 13, 33, 44\n",
        "\n",
        "test(23, 7)\n",
        "\n",
        "# 예상2\n",
        "print(f'Ex2 결과 : {a, b, x, y}')\n",
        "#a는 전역 변수로 선언되어 함수 안의 값 출력/ b, x, y는 지역 변수이기 때문에 함수 밖의 값 출력"
      ]
    },
    {
      "cell_type": "markdown",
      "id": "866ce5b7",
      "metadata": {
        "id": "866ce5b7"
      },
      "source": [
        "***"
      ]
    }
  ],
  "metadata": {
    "kernelspec": {
      "display_name": "Python 3 (ipykernel)",
      "language": "python",
      "name": "python3"
    },
    "language_info": {
      "codemirror_mode": {
        "name": "ipython",
        "version": 3
      },
      "file_extension": ".py",
      "mimetype": "text/x-python",
      "name": "python",
      "nbconvert_exporter": "python",
      "pygments_lexer": "ipython3",
      "version": "3.10.5"
    },
    "toc": {
      "base_numbering": 1,
      "nav_menu": {},
      "number_sections": false,
      "sideBar": true,
      "skip_h1_title": false,
      "title_cell": "Table of Contents",
      "title_sidebar": "Contents",
      "toc_cell": false,
      "toc_position": {
        "height": "calc(100% - 180px)",
        "left": "10px",
        "top": "150px",
        "width": "318px"
      },
      "toc_section_display": true,
      "toc_window_display": false
    },
    "colab": {
      "provenance": []
    }
  },
  "nbformat": 4,
  "nbformat_minor": 5
}