{
  "cells": [
    {
      "cell_type": "markdown",
      "id": "c3a88b92",
      "metadata": {
        "id": "c3a88b92"
      },
      "source": [
        "***\n",
        "## 12. Dict 아이템 추가 (Add Dict Items) 💻\n",
        "***\n",
        "#### **`연습예제`**"
      ]
    },
    {
      "cell_type": "markdown",
      "id": "49b428ae",
      "metadata": {
        "id": "49b428ae"
      },
      "source": [
        "`아래와 같이` **`Dictionary`** `에` **`{'c': 'banana', 'd': 'kiwi'}`** `를` **`추가하세요.`**  **`*가능한 방법 모두`** `구현`\n",
        "\n",
        "\n",
        "```python\n",
        "d = {'a': 'apple', 'b': 'grape'}\n",
        "\n",
        "출력 결과 : {'a': 'apple', 'b': 'grape', 'c': 'banana', 'd': 'kiwi'}\n",
        "```"
      ]
    },
    {
      "cell_type": "markdown",
      "id": "44d53430",
      "metadata": {
        "id": "44d53430"
      },
      "source": [
        "#### **`코딩영역`**"
      ]
    },
    {
      "cell_type": "code",
      "execution_count": 2,
      "id": "ca1e5a1b",
      "metadata": {
        "colab": {
          "base_uri": "https://localhost:8080/"
        },
        "id": "ca1e5a1b",
        "outputId": "0d18186d-2984-4b6d-db07-5372025f0643"
      },
      "outputs": [
        {
          "output_type": "stream",
          "name": "stdout",
          "text": [
            "{'a': 'apple', 'b': 'grape', 'c': 'banana', 'd': 'kiwi'}\n",
            "{'a': 'apple', 'b': 'grape', 'c': 'banana', 'd': 'kiwi'}\n"
          ]
        }
      ],
      "source": [
        "# 방법1\n",
        "d = {'a': 'apple', 'b': 'grape'}\n",
        "\n",
        "d['c'] = 'banana'\n",
        "d['d'] = 'kiwi'\n",
        "\n",
        "print(d)\n",
        "\n",
        "# 방법2\n",
        "e = {'a': 'apple', 'b': 'grape'}\n",
        "\n",
        "e.update({'c' : 'banana', 'd' : 'kiwi'})\n",
        "\n",
        "print(e)"
      ]
    },
    {
      "cell_type": "markdown",
      "id": "866ce5b7",
      "metadata": {
        "id": "866ce5b7"
      },
      "source": [
        "***"
      ]
    }
  ],
  "metadata": {
    "kernelspec": {
      "display_name": "Python 3 (ipykernel)",
      "language": "python",
      "name": "python3"
    },
    "language_info": {
      "codemirror_mode": {
        "name": "ipython",
        "version": 3
      },
      "file_extension": ".py",
      "mimetype": "text/x-python",
      "name": "python",
      "nbconvert_exporter": "python",
      "pygments_lexer": "ipython3",
      "version": "3.10.5"
    },
    "toc": {
      "base_numbering": 1,
      "nav_menu": {},
      "number_sections": false,
      "sideBar": true,
      "skip_h1_title": false,
      "title_cell": "Table of Contents",
      "title_sidebar": "Contents",
      "toc_cell": false,
      "toc_position": {
        "height": "calc(100% - 180px)",
        "left": "10px",
        "top": "150px",
        "width": "318px"
      },
      "toc_section_display": true,
      "toc_window_display": false
    },
    "colab": {
      "provenance": []
    }
  },
  "nbformat": 4,
  "nbformat_minor": 5
}