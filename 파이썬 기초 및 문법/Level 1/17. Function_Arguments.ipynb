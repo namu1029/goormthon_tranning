{
  "cells": [
    {
      "cell_type": "markdown",
      "id": "c3a88b92",
      "metadata": {
        "id": "c3a88b92"
      },
      "source": [
        "***\n",
        "## 17. 함수 인자 (Function Arguments) 💻\n",
        "***\n",
        "#### **`연습예제`**"
      ]
    },
    {
      "cell_type": "markdown",
      "id": "49b428ae",
      "metadata": {
        "id": "49b428ae"
      },
      "source": [
        "`아래` **`함수가 실행 시 에러가 발생하는 이유`** `를 생각해보세요.` **`함수 수정 후`** `정상적으로 실행해보세요.`\n",
        "\n",
        "\n",
        "\n",
        "```python\n",
        "\n",
        "# 함수 선언\n",
        "def greet(msg=\"Good morning!\", name):\n",
        "    return \"Hi! \" + name + ', ' + msg\n",
        "\n",
        "# 실행\n",
        "print(greet(\"Kim\"))\n",
        "print(greet(\"Park\", \"How do you do?\"))\n",
        "```"
      ]
    },
    {
      "cell_type": "markdown",
      "id": "44d53430",
      "metadata": {
        "id": "44d53430"
      },
      "source": [
        "#### **`코딩영역`**"
      ]
    },
    {
      "cell_type": "code",
      "execution_count": 10,
      "id": "ca1e5a1b",
      "metadata": {
        "colab": {
          "base_uri": "https://localhost:8080/"
        },
        "id": "ca1e5a1b",
        "outputId": "789932d4-4e3b-4bca-a670-26aadeaaeebc"
      },
      "outputs": [
        {
          "output_type": "stream",
          "name": "stdout",
          "text": [
            "Hi! Kim, Good morning!\n",
            "Hi! Park, How do you do?\n",
            "\n",
            "ex2 결과 : 40\n",
            "ex2 결과 : 155\n",
            "\n",
            "ex3 결과 : 3\n",
            "ex3 결과 : 21\n",
            "ex3 결과 : 5050\n"
          ]
        }
      ],
      "source": [
        "# 모든 인자가 디폴트 값\n",
        "# 모든 인자가 디폴트 값X\n",
        "# 디폴트 값 인자가 뒤로\n",
        "\n",
        "# 예제1\n",
        "def greet(name, msg=\"Good morning!\", ):\n",
        "    return \"Hi! \" + name + ', ' + msg\n",
        "\n",
        "print(greet(\"Kim\"))\n",
        "print(greet(\"Park\", \"How do you do?\"))\n",
        "\n",
        "print()\n",
        "\n",
        "# 예제2\n",
        "def add1(a,b=10,c=15):\n",
        "    return a + b + c\n",
        "\n",
        "print(f'ex2 결과 : {add1(15)}')\n",
        "print(f'ex2 결과 : {add1(b=100,c=25,a=30)}')\n",
        "\n",
        "print()\n",
        "\n",
        "# 예제3\n",
        "def add2(*d):\n",
        "    total = 0\n",
        "    for i in d:\n",
        "         total += i\n",
        "    return total\n",
        "\n",
        "\n",
        "print(f'ex3 결과 : {add2(1, 2)}')\n",
        "print(f'ex3 결과 : {add2(1, 2, 3, 4, 5, 6)}')\n",
        "print(f'ex3 결과 : {add2(*(i for i in range(1, 101)))}')\n",
        "# +, - int 는 generator로 사용할 수 없어 풀어서 보내야 함\n",
        "\n",
        "# print(*(i for i in range(1, 101))) # 참고"
      ]
    },
    {
      "cell_type": "markdown",
      "id": "866ce5b7",
      "metadata": {
        "id": "866ce5b7"
      },
      "source": [
        "***"
      ]
    }
  ],
  "metadata": {
    "kernelspec": {
      "display_name": "Python 3 (ipykernel)",
      "language": "python",
      "name": "python3"
    },
    "language_info": {
      "codemirror_mode": {
        "name": "ipython",
        "version": 3
      },
      "file_extension": ".py",
      "mimetype": "text/x-python",
      "name": "python",
      "nbconvert_exporter": "python",
      "pygments_lexer": "ipython3",
      "version": "3.10.5"
    },
    "toc": {
      "base_numbering": 1,
      "nav_menu": {},
      "number_sections": false,
      "sideBar": true,
      "skip_h1_title": false,
      "title_cell": "Table of Contents",
      "title_sidebar": "Contents",
      "toc_cell": false,
      "toc_position": {
        "height": "calc(100% - 180px)",
        "left": "10px",
        "top": "150px",
        "width": "318px"
      },
      "toc_section_display": true,
      "toc_window_display": false
    },
    "colab": {
      "provenance": []
    }
  },
  "nbformat": 4,
  "nbformat_minor": 5
}