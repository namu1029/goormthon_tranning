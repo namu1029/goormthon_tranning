{
  "cells": [
    {
      "cell_type": "markdown",
      "id": "c3a88b92",
      "metadata": {
        "id": "c3a88b92"
      },
      "source": [
        "***\n",
        "## 3. 에러 핸들링 (TypeError Handling) 💻\n",
        "***\n",
        "#### **`연습예제1`**"
      ]
    },
    {
      "cell_type": "markdown",
      "id": "49b428ae",
      "metadata": {
        "id": "49b428ae"
      },
      "source": [
        "`아래 파이썬 코드가 왜` **`에러(예외)`**  `가 발생하는지 생각해보고` **`동작하도록 수정`** `후 코딩영역에 작성하세요.`\n",
        "\n",
        "```python\n",
        "x = \"Seoul\"\n",
        "y = 25\n",
        "z = x + y\n",
        "\n",
        "print(f'x + y : {z}')\n",
        "```"
      ]
    },
    {
      "cell_type": "markdown",
      "id": "44d53430",
      "metadata": {
        "id": "44d53430"
      },
      "source": [
        "#### **`코딩영역1`**"
      ]
    },
    {
      "cell_type": "code",
      "execution_count": 1,
      "id": "ca1e5a1b",
      "metadata": {
        "colab": {
          "base_uri": "https://localhost:8080/"
        },
        "id": "ca1e5a1b",
        "outputId": "2bac7a6e-3b85-448a-917e-c61ca307afb4"
      },
      "outputs": [
        {
          "output_type": "stream",
          "name": "stdout",
          "text": [
            "x + y : Seoul25\n"
          ]
        }
      ],
      "source": [
        "x = \"Seoul\"\n",
        "y = str(25) # 타입 형변환 int -> string\n",
        "z = x + y\n",
        "\n",
        "print(f'x + y : {z}')"
      ]
    },
    {
      "cell_type": "markdown",
      "id": "e48cce26",
      "metadata": {
        "id": "e48cce26"
      },
      "source": [
        "#### **`결과 & 보충설명`**"
      ]
    },
    {
      "cell_type": "code",
      "source": [
        "# 예제1\n",
        "x = \"Seoul\"\n",
        "y = 25\n",
        "z = x + str(y)\n",
        "\n",
        "print()\n",
        "print(f'결과1 > x + y : {z}')\n",
        "\n",
        "# 예제2\n",
        "etc = \"KoreaSeoul\"\n",
        "# print(f'결과2 > : ' etc()) -> Calling a non-callable 경우\n",
        "\n",
        "# 예제3\n",
        "c = [1, 2, 3, 4, 5]\n",
        "# print(f'결과3 > : 'c[\"2\"]) -> 리스트 인덱스 타입 에러 경우"
      ],
      "metadata": {
        "colab": {
          "base_uri": "https://localhost:8080/"
        },
        "id": "zTqIOR6kb4d4",
        "outputId": "f89d97b1-91c3-40e3-8564-5c5a77416648"
      },
      "id": "zTqIOR6kb4d4",
      "execution_count": 2,
      "outputs": [
        {
          "output_type": "stream",
          "name": "stdout",
          "text": [
            "\n",
            "결과1 > x + y : Seoul25\n"
          ]
        }
      ]
    },
    {
      "cell_type": "markdown",
      "id": "866ce5b7",
      "metadata": {
        "id": "866ce5b7"
      },
      "source": [
        "***"
      ]
    }
  ],
  "metadata": {
    "kernelspec": {
      "display_name": "Python 3 (ipykernel)",
      "language": "python",
      "name": "python3"
    },
    "language_info": {
      "codemirror_mode": {
        "name": "ipython",
        "version": 3
      },
      "file_extension": ".py",
      "mimetype": "text/x-python",
      "name": "python",
      "nbconvert_exporter": "python",
      "pygments_lexer": "ipython3",
      "version": "3.9.12"
    },
    "toc": {
      "base_numbering": 1,
      "nav_menu": {},
      "number_sections": false,
      "sideBar": true,
      "skip_h1_title": false,
      "title_cell": "Table of Contents",
      "title_sidebar": "Contents",
      "toc_cell": false,
      "toc_position": {
        "height": "calc(100% - 180px)",
        "left": "10px",
        "top": "150px",
        "width": "318px"
      },
      "toc_section_display": true,
      "toc_window_display": false
    },
    "colab": {
      "provenance": []
    }
  },
  "nbformat": 4,
  "nbformat_minor": 5
}