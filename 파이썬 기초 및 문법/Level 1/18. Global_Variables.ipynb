{
  "cells": [
    {
      "cell_type": "markdown",
      "id": "c3a88b92",
      "metadata": {
        "id": "c3a88b92"
      },
      "source": [
        "***\n",
        "## 18. 전역 변수 (Global Variables) 💻\n",
        "***\n",
        "#### **`연습예제`**"
      ]
    },
    {
      "cell_type": "markdown",
      "id": "49b428ae",
      "metadata": {
        "id": "49b428ae"
      },
      "source": [
        "`아래` **`함수가 실행 시 에러가 발생하는 이유`** `를 생각해보세요.` **`함수 수정 후`** `정상적으로 실행해보세요.`  **`결과값 : 1000`**\n",
        "\n",
        "\n",
        "\n",
        "```python\n",
        "# 전역변수\n",
        "x = 100\n",
        "\n",
        "def test():\n",
        "    x = x * 10\n",
        "    return x\n",
        "\n",
        "print(test())\n",
        "```"
      ]
    },
    {
      "cell_type": "markdown",
      "id": "44d53430",
      "metadata": {
        "id": "44d53430"
      },
      "source": [
        "#### **`코딩영역`**"
      ]
    },
    {
      "cell_type": "code",
      "execution_count": null,
      "id": "ca1e5a1b",
      "metadata": {
        "colab": {
          "base_uri": "https://localhost:8080/"
        },
        "id": "ca1e5a1b",
        "outputId": "932c9428-2277-46a7-86cc-9fda6a92d35c"
      },
      "outputs": [
        {
          "output_type": "stream",
          "name": "stdout",
          "text": [
            "1000\n",
            "\n",
            "1000\n"
          ]
        }
      ],
      "source": [
        "# 예제1\n",
        "x = 100\n",
        "def test1():\n",
        "    return x * 10\n",
        "\n",
        "print(test1())\n",
        "print()\n",
        "\n",
        "# 예제2\n",
        "y = 100\n",
        "def test2():\n",
        "    global y\n",
        "    # y = 1000\n",
        "    y *= 10\n",
        "    return y\n",
        "\n",
        "print(test2())"
      ]
    },
    {
      "cell_type": "markdown",
      "id": "e48cce26",
      "metadata": {
        "id": "e48cce26"
      },
      "source": [
        "#### **`Hint`**"
      ]
    },
    {
      "cell_type": "markdown",
      "id": "866ce5b7",
      "metadata": {
        "id": "866ce5b7"
      },
      "source": [
        "***"
      ]
    }
  ],
  "metadata": {
    "kernelspec": {
      "display_name": "Python 3 (ipykernel)",
      "language": "python",
      "name": "python3"
    },
    "language_info": {
      "codemirror_mode": {
        "name": "ipython",
        "version": 3
      },
      "file_extension": ".py",
      "mimetype": "text/x-python",
      "name": "python",
      "nbconvert_exporter": "python",
      "pygments_lexer": "ipython3",
      "version": "3.10.5"
    },
    "toc": {
      "base_numbering": 1,
      "nav_menu": {},
      "number_sections": false,
      "sideBar": true,
      "skip_h1_title": false,
      "title_cell": "Table of Contents",
      "title_sidebar": "Contents",
      "toc_cell": false,
      "toc_position": {
        "height": "calc(100% - 180px)",
        "left": "10px",
        "top": "150px",
        "width": "318px"
      },
      "toc_section_display": true,
      "toc_window_display": false
    },
    "colab": {
      "provenance": []
    }
  },
  "nbformat": 4,
  "nbformat_minor": 5
}