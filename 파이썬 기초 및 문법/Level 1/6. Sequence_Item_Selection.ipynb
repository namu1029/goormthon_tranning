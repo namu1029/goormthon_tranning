{
  "cells": [
    {
      "cell_type": "markdown",
      "id": "c3a88b92",
      "metadata": {
        "id": "c3a88b92"
      },
      "source": [
        "***\n",
        "## 6. 시퀀스 타입 조회 (Sequence Item Selection) 💻\n",
        "***\n",
        "#### **`연습예제`**"
      ]
    },
    {
      "cell_type": "markdown",
      "id": "49b428ae",
      "metadata": {
        "id": "49b428ae"
      },
      "source": [
        "`아래 리스트(List)에서` **`apple, kiwi`** `를 추출해서` **`대문자`** `리스트로 출력하세요.` **`가능한 다양한`** `방법으로 코딩해보세요.`\n",
        "\n",
        "\n",
        "\n",
        "```python\n",
        "x = [\"grapes\", \"mango\", \"orange\", \"peach\", \"apple\", \"lime\", \"banana\", \"cherry\", \"tomato\", \"kiwi\", \"blueberry\", \"watermelon\"]\n",
        "\n",
        "출력 결과 : [APPLE, KIWI]\n",
        "```"
      ]
    },
    {
      "cell_type": "markdown",
      "id": "44d53430",
      "metadata": {
        "id": "44d53430"
      },
      "source": [
        "#### **`코딩영역`**"
      ]
    },
    {
      "cell_type": "code",
      "execution_count": 2,
      "id": "ca1e5a1b",
      "metadata": {
        "colab": {
          "base_uri": "https://localhost:8080/"
        },
        "id": "ca1e5a1b",
        "outputId": "42e2baca-4c2d-4717-c33e-ae21de5c62c3"
      },
      "outputs": [
        {
          "output_type": "stream",
          "name": "stdout",
          "text": [
            "ex1 결과 : ['APPLE', 'KIWI']\n",
            "ex2 결과 : ['APPLE', 'KIWI']\n",
            "ex3 결과 : ['APPLE', 'KIWI']\n"
          ]
        }
      ],
      "source": [
        "x = [\"grapes\", \"mango\", \"orange\", \"peach\", \"apple\", \"lime\", \"banana\", \"cherry\", \"tomato\", \"kiwi\", \"blueberry\", \"watermelon\"]\n",
        "\n",
        "# 방법1\n",
        "ex1 = []\n",
        "for i in range(len(x)):\n",
        "    if x[i] == 'apple' or x[i] == 'kiwi':\n",
        "         ex1.append(x[i].upper())\n",
        "\n",
        "\n",
        "print(f'ex1 결과 : {ex1}')\n",
        "\n",
        "# 방법2\n",
        "ex2 = list(map(lambda b: b.upper(), filter(lambda a: a == 'apple' or a == 'kiwi', x)))\n",
        "\n",
        "print(f'ex2 결과 : {ex2}')\n",
        "\n",
        "# 방법3\n",
        "ex3 = [a.upper() for a in x if a == 'apple' or a == 'kiwi']\n",
        "\n",
        "print(f'ex3 결과 : {ex3}')"
      ]
    },
    {
      "cell_type": "markdown",
      "id": "866ce5b7",
      "metadata": {
        "id": "866ce5b7"
      },
      "source": [
        "***"
      ]
    }
  ],
  "metadata": {
    "kernelspec": {
      "display_name": "Python 3 (ipykernel)",
      "language": "python",
      "name": "python3"
    },
    "language_info": {
      "codemirror_mode": {
        "name": "ipython",
        "version": 3
      },
      "file_extension": ".py",
      "mimetype": "text/x-python",
      "name": "python",
      "nbconvert_exporter": "python",
      "pygments_lexer": "ipython3",
      "version": "3.10.5"
    },
    "toc": {
      "base_numbering": 1,
      "nav_menu": {},
      "number_sections": false,
      "sideBar": true,
      "skip_h1_title": false,
      "title_cell": "Table of Contents",
      "title_sidebar": "Contents",
      "toc_cell": false,
      "toc_position": {
        "height": "calc(100% - 180px)",
        "left": "10px",
        "top": "150px",
        "width": "318px"
      },
      "toc_section_display": true,
      "toc_window_display": false
    },
    "colab": {
      "provenance": []
    }
  },
  "nbformat": 4,
  "nbformat_minor": 5
}