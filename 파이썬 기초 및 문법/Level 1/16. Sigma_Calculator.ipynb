{
  "cells": [
    {
      "cell_type": "markdown",
      "id": "c3a88b92",
      "metadata": {
        "id": "c3a88b92"
      },
      "source": [
        "***\n",
        "## 16. 계산 문제 (Sigma Calculator) 💻\n",
        "***\n",
        "#### **`연습예제`** 💻"
      ]
    },
    {
      "cell_type": "markdown",
      "id": "49b428ae",
      "metadata": {
        "id": "49b428ae"
      },
      "source": [
        "`아래와 같이` **`N`** `까지` **`합(Sigma)`** `을 구하는 공식을` **`함수`** `형태로 작성 후 출력하세요.`  **`다양한 방법 사용`**\n",
        "\n",
        "![16-1](/content/16-1.png)\n",
        "\n",
        "```python\n",
        "\n",
        "입력 : 10\n",
        "    \n",
        "출력 결과 : 55\n",
        "```"
      ]
    },
    {
      "cell_type": "markdown",
      "id": "44d53430",
      "metadata": {
        "id": "44d53430"
      },
      "source": [
        "#### **`코딩영역`**"
      ]
    },
    {
      "cell_type": "code",
      "execution_count": 3,
      "id": "ca1e5a1b",
      "metadata": {
        "colab": {
          "base_uri": "https://localhost:8080/"
        },
        "id": "ca1e5a1b",
        "outputId": "932bb447-bb30-4764-ed1f-01a83feba9e1"
      },
      "outputs": [
        {
          "output_type": "stream",
          "name": "stdout",
          "text": [
            "55\n",
            "55\n",
            "55\n"
          ]
        }
      ],
      "source": [
        "# 방법1\n",
        "def sigma_sum1(n):\n",
        "  total = 0\n",
        "  for i in range(1, n + 1):\n",
        "    total += i\n",
        "  return total\n",
        "\n",
        "print(sigma_sum1(10))\n",
        "\n",
        "# 방법2\n",
        "def sigma_sum2(n):\n",
        "  return n * (n + 1) // 2\n",
        "\n",
        "print(sigma_sum2(10))\n",
        "\n",
        "# 방법3\n",
        "def sigma_sum3(n):\n",
        "  return sum(range(n + 1))\n",
        "\n",
        "print(sigma_sum3(10))"
      ]
    },
    {
      "cell_type": "markdown",
      "id": "866ce5b7",
      "metadata": {
        "id": "866ce5b7"
      },
      "source": [
        "***"
      ]
    }
  ],
  "metadata": {
    "kernelspec": {
      "display_name": "Python 3 (ipykernel)",
      "language": "python",
      "name": "python3"
    },
    "language_info": {
      "codemirror_mode": {
        "name": "ipython",
        "version": 3
      },
      "file_extension": ".py",
      "mimetype": "text/x-python",
      "name": "python",
      "nbconvert_exporter": "python",
      "pygments_lexer": "ipython3",
      "version": "3.10.5"
    },
    "toc": {
      "base_numbering": 1,
      "nav_menu": {},
      "number_sections": false,
      "sideBar": true,
      "skip_h1_title": false,
      "title_cell": "Table of Contents",
      "title_sidebar": "Contents",
      "toc_cell": false,
      "toc_position": {
        "height": "calc(100% - 180px)",
        "left": "10px",
        "top": "150px",
        "width": "318px"
      },
      "toc_section_display": true,
      "toc_window_display": false
    },
    "colab": {
      "provenance": []
    }
  },
  "nbformat": 4,
  "nbformat_minor": 5
}