{
  "cells": [
    {
      "cell_type": "markdown",
      "id": "c3a88b92",
      "metadata": {
        "id": "c3a88b92"
      },
      "source": [
        "***\n",
        "## 8. Range 함수 활용 (More Range Technique) 💻\n",
        "***\n",
        "#### **`연습예제`**"
      ]
    },
    {
      "cell_type": "markdown",
      "id": "49b428ae",
      "metadata": {
        "id": "49b428ae"
      },
      "source": [
        "`아래와 같이` **`1부터 20`** `까지` **`홀수 * 10, 짝수는 그대로`** `리스트로 출력하세요.`\n",
        "\n",
        "\n",
        "\n",
        "```python\n",
        "출력 결과 : [10, 2, 30, 4, 50, 6, 70, 8, 90, 10, 110, 12, 130, 14, 150, 16, 170, 18, 190, 20]\n",
        "```"
      ]
    },
    {
      "cell_type": "markdown",
      "id": "44d53430",
      "metadata": {
        "id": "44d53430"
      },
      "source": [
        "#### **`코딩영역`**"
      ]
    },
    {
      "cell_type": "code",
      "execution_count": 4,
      "id": "ca1e5a1b",
      "metadata": {
        "colab": {
          "base_uri": "https://localhost:8080/"
        },
        "id": "ca1e5a1b",
        "outputId": "87e4441f-e259-4516-ae9e-58c64574deff"
      },
      "outputs": [
        {
          "output_type": "stream",
          "name": "stdout",
          "text": [
            "[10, 2, 30, 4, 50, 6, 70, 8, 90, 10, 110, 12, 130, 14, 150, 16, 170, 18, 190, 20]\n",
            "[10, 2, 30, 4, 50, 6, 70, 8, 90, 10, 110, 12, 130, 14, 150, 16, 170, 18, 190, 20]\n"
          ]
        }
      ],
      "source": [
        "# 방법1\n",
        "ex1 = []\n",
        "for i in range(1, 21):\n",
        "  if(i % 2 != 0):\n",
        "    ex1.append(i * 10)\n",
        "  else:\n",
        "    ex1.append(i)\n",
        "\n",
        "print(ex1)\n",
        "\n",
        "# 방법2\n",
        "ex2 = [x * 10 if x % 2 != 0 else x for x in range(1,21)]\n",
        "\n",
        "print(ex2)\n",
        "\n",
        "\n",
        "# 응용\n",
        "# print(f'결과 : {[\"X\" for x in range(1,21) ]}')\n",
        "# print(f'결과 : {[x for x in range(1,21) if x % 2 != 0]}')\n",
        "# print(f'결과 : {[[j for j in range(5)] for i in range(5)]}')"
      ]
    },
    {
      "cell_type": "markdown",
      "id": "866ce5b7",
      "metadata": {
        "id": "866ce5b7"
      },
      "source": [
        "***"
      ]
    }
  ],
  "metadata": {
    "kernelspec": {
      "display_name": "Python 3 (ipykernel)",
      "language": "python",
      "name": "python3"
    },
    "language_info": {
      "codemirror_mode": {
        "name": "ipython",
        "version": 3
      },
      "file_extension": ".py",
      "mimetype": "text/x-python",
      "name": "python",
      "nbconvert_exporter": "python",
      "pygments_lexer": "ipython3",
      "version": "3.10.5"
    },
    "toc": {
      "base_numbering": 1,
      "nav_menu": {},
      "number_sections": false,
      "sideBar": true,
      "skip_h1_title": false,
      "title_cell": "Table of Contents",
      "title_sidebar": "Contents",
      "toc_cell": false,
      "toc_position": {
        "height": "calc(100% - 180px)",
        "left": "10px",
        "top": "150px",
        "width": "318px"
      },
      "toc_section_display": true,
      "toc_window_display": false
    },
    "colab": {
      "provenance": []
    }
  },
  "nbformat": 4,
  "nbformat_minor": 5
}