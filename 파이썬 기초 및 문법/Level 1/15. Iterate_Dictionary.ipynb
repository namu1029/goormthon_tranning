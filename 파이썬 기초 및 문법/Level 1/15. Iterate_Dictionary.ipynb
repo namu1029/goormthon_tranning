{
  "cells": [
    {
      "cell_type": "markdown",
      "id": "c3a88b92",
      "metadata": {
        "id": "c3a88b92"
      },
      "source": [
        "***\n",
        "## 15. Dict 반복문 활용 (Iterate Dictionary) 💻\n",
        "***\n",
        "#### **`연습예제`**"
      ]
    },
    {
      "cell_type": "markdown",
      "id": "49b428ae",
      "metadata": {
        "id": "49b428ae"
      },
      "source": [
        "`아래와 같은 ` **`딕셔너리(Dict)`** `를` **`출력 결과`** `와 같이` **`완성 하세요.`** **`(반복문 사용)`**\n",
        "\n",
        "```python\n",
        "\n",
        "# Dict 선언\n",
        "d = dict(one = list(range(1, 11)), two = list(range(11, 23)), three = list(range(23, 37)))\n",
        "\n",
        "# 출력 결과\n",
        "\n",
        "key 'one' has values [1, 2, 3, 4, 5, 6, 7, 8, 9, 10] -> total : 10\n",
        "key 'two' has values [11, 12, 13, 14, 15, 16, 17, 18, 19, 20, 21, 22] -> total : 12\n",
        "key 'three' has values [23, 24, 25, 26, 27, 28, 29, 30, 31, 32, 33, 34, 35, 36] -> total : 14\n",
        "\n",
        "```"
      ]
    },
    {
      "cell_type": "markdown",
      "id": "44d53430",
      "metadata": {
        "id": "44d53430"
      },
      "source": [
        "#### **`코딩영역`**"
      ]
    },
    {
      "cell_type": "code",
      "execution_count": 1,
      "id": "ca1e5a1b",
      "metadata": {
        "colab": {
          "base_uri": "https://localhost:8080/"
        },
        "id": "ca1e5a1b",
        "outputId": "09c2e7c4-8cef-4ec7-bdd3-10502a5389f3"
      },
      "outputs": [
        {
          "output_type": "stream",
          "name": "stdout",
          "text": [
            "key \"one\" has values [1, 2, 3, 4, 5, 6, 7, 8, 9, 10] -> total : 10\n",
            "key \"two\" has values [11, 12, 13, 14, 15, 16, 17, 18, 19, 20, 21, 22] -> total : 12\n",
            "key \"three\" has values [23, 24, 25, 26, 27, 28, 29, 30, 31, 32, 33, 34, 35, 36] -> total : 14\n"
          ]
        }
      ],
      "source": [
        "d = dict(one = list(range(1, 11)), two = list(range(11, 23)), three = list(range(23, 37)))\n",
        "\n",
        "# 방법1\n",
        "for k, v in d.items():\n",
        "  print(f'key \"{k}\" has values {v} -> total : {len(v)}')"
      ]
    },
    {
      "cell_type": "markdown",
      "id": "866ce5b7",
      "metadata": {
        "id": "866ce5b7"
      },
      "source": [
        "***"
      ]
    }
  ],
  "metadata": {
    "kernelspec": {
      "display_name": "Python 3 (ipykernel)",
      "language": "python",
      "name": "python3"
    },
    "language_info": {
      "codemirror_mode": {
        "name": "ipython",
        "version": 3
      },
      "file_extension": ".py",
      "mimetype": "text/x-python",
      "name": "python",
      "nbconvert_exporter": "python",
      "pygments_lexer": "ipython3",
      "version": "3.10.5"
    },
    "toc": {
      "base_numbering": 1,
      "nav_menu": {},
      "number_sections": false,
      "sideBar": true,
      "skip_h1_title": false,
      "title_cell": "Table of Contents",
      "title_sidebar": "Contents",
      "toc_cell": false,
      "toc_position": {
        "height": "calc(100% - 180px)",
        "left": "10px",
        "top": "150px",
        "width": "318px"
      },
      "toc_section_display": true,
      "toc_window_display": false
    },
    "colab": {
      "provenance": []
    }
  },
  "nbformat": 4,
  "nbformat_minor": 5
}