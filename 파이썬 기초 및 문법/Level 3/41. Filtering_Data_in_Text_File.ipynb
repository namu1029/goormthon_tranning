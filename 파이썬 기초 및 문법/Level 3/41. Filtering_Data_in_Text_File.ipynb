{
  "cells": [
    {
      "cell_type": "markdown",
      "id": "c3a88b92",
      "metadata": {
        "id": "c3a88b92"
      },
      "source": [
        "***\n",
        "## 41. 텍스트 파일 필터링 (Filtering Data in Text File) 💻\n",
        "***\n",
        "#### **`연습예제`**"
      ]
    },
    {
      "cell_type": "markdown",
      "id": "49b428ae",
      "metadata": {
        "id": "49b428ae"
      },
      "source": [
        "**`41-1.txt`** **`텍스트`** `파일을 불러온 후` **`알파벳 C로`** `시작하는` **`나라`** `의` **`지표의 합`** `을 출력하세요.` **`다양한 방법으로 해결해보세요.`**\n",
        "\n",
        "```python\n",
        "\n",
        "# 41-1.txt 파일을 열어보세요.\n",
        "\n",
        "# C로 시작하는 나라 이름\n",
        "# Canada, China, Chad ...\n",
        "\n",
        "# 결과 값\n",
        "1546447728\n",
        "```"
      ]
    },
    {
      "cell_type": "markdown",
      "id": "44d53430",
      "metadata": {
        "id": "44d53430"
      },
      "source": [
        "#### **`코딩영역`**"
      ]
    },
    {
      "cell_type": "code",
      "execution_count": null,
      "id": "9427f511",
      "metadata": {
        "id": "9427f511",
        "outputId": "8cdcf3e1-0d91-4676-89ac-8dce185f3c4a"
      },
      "outputs": [
        {
          "name": "stdout",
          "output_type": "stream",
          "text": [
            "1546447728\n",
            "\n",
            "1546447728\n"
          ]
        }
      ],
      "source": [
        "# 방법1\n",
        "def read_text_file1(file_path):\n",
        "    # 결과 리스트\n",
        "    value_list = []\n",
        "\n",
        "    with open(file_path, 'r') as f:\n",
        "        # 내용 확인\n",
        "        # print(f.read())\n",
        "        # print(f.readline())\n",
        "        # print(f.readlines())\n",
        "\n",
        "        # 한 번에 읽기\n",
        "        lines = f.readlines()\n",
        "\n",
        "        for line in lines:\n",
        "            country, value = line.rstrip().split(\",\") # (\",\") 비교\n",
        "            if country.lower().startswith('c'):\n",
        "                # 특정 문자열로 시작하는 국가 이름이 맞는지 확인\n",
        "                # print(country)\n",
        "                value_list.append(int(value))\n",
        "\n",
        "    return value_list\n",
        "\n",
        "result = read_text_file1(\"/content/41-1.txt\")\n",
        "\n",
        "print(sum(result))\n",
        "print()\n",
        "\n",
        "\n",
        "# 방법2\n",
        "import csv\n",
        "# 참고 : https://docs.python.org/3/library/csv.html\n",
        "\n",
        "def read_text_file2(file_path):\n",
        "    # 결과 리스트\n",
        "    value_list = []\n",
        "\n",
        "    with open(file_path, 'r') as f:\n",
        "\n",
        "        # csv 형식 한 번에 읽기\n",
        "        reader = csv.reader(f, delimiter=',')\n",
        "        for row in reader:\n",
        "            # 확인\n",
        "            # print(row)\n",
        "            # print(row[0], row[1])\n",
        "            # print(', '.join(row))\n",
        "\n",
        "            if row[0].lower().startswith('c'):\n",
        "                # 특정 문자열로 시작하는 국가 이름이 맞는지 확인\n",
        "                # print(row[0])\n",
        "                value_list.append(int(row[1]))\n",
        "\n",
        "    return value_list\n",
        "\n",
        "result = read_text_file2(\"../source/41-1.txt\")\n",
        "\n",
        "print(sum(result))"
      ]
    }
  ],
  "metadata": {
    "kernelspec": {
      "display_name": "Python 3 (ipykernel)",
      "language": "python",
      "name": "python3"
    },
    "language_info": {
      "codemirror_mode": {
        "name": "ipython",
        "version": 3
      },
      "file_extension": ".py",
      "mimetype": "text/x-python",
      "name": "python",
      "nbconvert_exporter": "python",
      "pygments_lexer": "ipython3",
      "version": "3.9.12"
    },
    "toc": {
      "base_numbering": 1,
      "nav_menu": {},
      "number_sections": false,
      "sideBar": true,
      "skip_h1_title": false,
      "title_cell": "Table of Contents",
      "title_sidebar": "Contents",
      "toc_cell": false,
      "toc_position": {
        "height": "calc(100% - 180px)",
        "left": "10px",
        "top": "150px",
        "width": "318px"
      },
      "toc_section_display": true,
      "toc_window_display": false
    },
    "colab": {
      "provenance": []
    }
  },
  "nbformat": 4,
  "nbformat_minor": 5
}