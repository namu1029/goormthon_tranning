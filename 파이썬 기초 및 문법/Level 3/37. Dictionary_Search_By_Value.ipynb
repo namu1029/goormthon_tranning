{
  "cells": [
    {
      "cell_type": "markdown",
      "id": "c3a88b92",
      "metadata": {
        "id": "c3a88b92"
      },
      "source": [
        "***\n",
        "## 37. Dict 조회 (Dictionary Search By Value)💻\n",
        "***\n",
        "#### **`연습예제`**"
      ]
    },
    {
      "cell_type": "markdown",
      "id": "49b428ae",
      "metadata": {
        "id": "49b428ae"
      },
      "source": [
        "`아래` **`Dict 데이터`** `에서` **`사용자 입력`** `으로` **`키(Key)`** `로` **`검색`** `후` **`값`** `을 반환하세요.` `아래와 같이 출력하세요.`\n",
        "\n",
        "```python\n",
        "\n",
        "# Dict 선언\n",
        "d = {'USA': 36, 'Germany': 17,'France':32, 'Australia': 77, 'South Africa': 99, 'India': 108, 'South Korea': 200}\n",
        "\n",
        "# 사용자 입력1(정상 값)\n",
        "France\n",
        "\n",
        "# 출력1\n",
        "'32'\n",
        "\n",
        "# 사용자 입력2(잘못된 값)\n",
        "Canada\n",
        "\n",
        "# 출력2\n",
        "'No results were found for your search.'\n",
        "\n",
        "```"
      ]
    },
    {
      "cell_type": "markdown",
      "id": "44d53430",
      "metadata": {
        "id": "44d53430"
      },
      "source": [
        "#### **`코딩영역`**"
      ]
    },
    {
      "cell_type": "code",
      "execution_count": 1,
      "id": "ca1e5a1b",
      "metadata": {
        "colab": {
          "base_uri": "https://localhost:8080/"
        },
        "id": "ca1e5a1b",
        "outputId": "125586fa-6fb7-4e15-eb46-ceba629ce6c4"
      },
      "outputs": [
        {
          "output_type": "stream",
          "name": "stdout",
          "text": [
            "Enter key: USa\n",
            "36\n"
          ]
        }
      ],
      "source": [
        "import time\n",
        "\n",
        "d = {'USA': 36, 'Germany': 17,'France':32, 'Australia': 77, 'South Africa': 99, 'India': 108, 'South Korea': 200}\n",
        "\n",
        "# 방법1\n",
        "def search_dict(word):\n",
        "    try:\n",
        "        c = dict((new_k.lower(),new_val) for new_k,new_val in d.items())\n",
        "        return c[word] # get 이라면?\n",
        "    except KeyError:\n",
        "        return \"No results were found for your search.\"\n",
        "\n",
        "txt = input(\"Enter key: \").lower()\n",
        "\n",
        "print(search_dict(txt))\n",
        "\n",
        "\n",
        "# # 방법2\n",
        "# def search_dict(word):\n",
        "#     c = dict((new_k.lower(),new_val) for new_k,new_val in d.items())\n",
        "\n",
        "#     return c.get(word, \"No results were found for your search.\")\n",
        "\n",
        "# txt = input(\"Enter key: \").lower()\n",
        "\n",
        "# search_dict(txt)"
      ]
    },
    {
      "cell_type": "markdown",
      "id": "866ce5b7",
      "metadata": {
        "id": "866ce5b7"
      },
      "source": [
        "***"
      ]
    }
  ],
  "metadata": {
    "kernelspec": {
      "display_name": "Python 3 (ipykernel)",
      "language": "python",
      "name": "python3"
    },
    "language_info": {
      "codemirror_mode": {
        "name": "ipython",
        "version": 3
      },
      "file_extension": ".py",
      "mimetype": "text/x-python",
      "name": "python",
      "nbconvert_exporter": "python",
      "pygments_lexer": "ipython3",
      "version": "3.10.5"
    },
    "toc": {
      "base_numbering": 1,
      "nav_menu": {},
      "number_sections": false,
      "sideBar": true,
      "skip_h1_title": false,
      "title_cell": "Table of Contents",
      "title_sidebar": "Contents",
      "toc_cell": false,
      "toc_position": {
        "height": "calc(100% - 180px)",
        "left": "10px",
        "top": "150px",
        "width": "318px"
      },
      "toc_section_display": true,
      "toc_window_display": false
    },
    "colab": {
      "provenance": []
    }
  },
  "nbformat": 4,
  "nbformat_minor": 5
}