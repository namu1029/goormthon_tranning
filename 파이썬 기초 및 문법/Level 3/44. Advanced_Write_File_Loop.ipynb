{
  "cells": [
    {
      "cell_type": "markdown",
      "id": "c3a88b92",
      "metadata": {
        "id": "c3a88b92"
      },
      "source": [
        "***\n",
        "## 44. 파일 읽기 & 쓰기 고급 (Advanced Write File Loop) 💻\n",
        "***\n",
        "#### **`연습예제`**"
      ]
    },
    {
      "cell_type": "markdown",
      "id": "49b428ae",
      "metadata": {
        "id": "49b428ae"
      },
      "source": [
        "`아래 조건과 같이` **`../source/44-1.txt`** `에` **`파일 읽기 및 쓰기`** `기능을` **`while`** `문을 사용후 구현하세요.`\n",
        "```python\n",
        "\n",
        "# 구현내용\n",
        "# 조건1 : 파일명 및 위치 ../source/44-1.txt\n",
        "# 조건2 : 사용자 입력 (쓰기, 읽기, 종료)\n",
        "# 조건3 : 기존 내용에 추가해서 쓰기 수행\n",
        "# 조건4 : \"종료\" 명령어 입력 전까지는 프로그램이 종료 불가\n",
        "# 조건5 : 파일 내용은 \\n(줄바꿈) 해서 출력 수행\n",
        "\n",
        "\n",
        "# 프로그램 구현 화면\n",
        "# 강의 영상 참조\n",
        "```"
      ]
    },
    {
      "cell_type": "markdown",
      "id": "44d53430",
      "metadata": {
        "id": "44d53430"
      },
      "source": [
        "#### **`코딩영역`**"
      ]
    },
    {
      "cell_type": "code",
      "execution_count": null,
      "id": "9427f511",
      "metadata": {
        "id": "9427f511",
        "outputId": "19cbc8ba-4552-4bec-d3e9-da3e99c436dd"
      },
      "outputs": [
        {
          "name": "stdout",
          "output_type": "stream",
          "text": [
            "--------------------------\n",
            "1. read\n",
            "2. write\n",
            "3. exit\n",
            "--------------------------\n",
            "Select a menu number : 1\n",
            "hello\n",
            "hi\n",
            "\n",
            "\n",
            "--------------------------\n",
            ">> Data read complete. <<\n",
            "--------------------------\n",
            "--------------------------\n",
            "1. read\n",
            "2. write\n",
            "3. exit\n",
            "--------------------------\n",
            "Select a menu number : 2\n",
            "Write a texttetd\n",
            "\n",
            "--------------------------\n",
            ">> Data write complete <<\n",
            "--------------------------\n",
            "--------------------------\n",
            "1. read\n",
            "2. write\n",
            "3. exit\n",
            "--------------------------\n",
            "Select a menu number : 1\n",
            "hello\n",
            "hi\n",
            "tetd\n",
            "\n",
            "\n",
            "--------------------------\n",
            ">> Data read complete. <<\n",
            "--------------------------\n",
            "--------------------------\n",
            "1. read\n",
            "2. write\n",
            "3. exit\n",
            "--------------------------\n",
            "Select a menu number : 3\n",
            "\n",
            "--------------------------\n",
            ">> Program exit. <<\n",
            "--------------------------\n"
          ]
        }
      ],
      "source": [
        "# 방법\n",
        "# 다양한 방법으로 구현 가능\n",
        "# file mode에 주의\n",
        "filepath = '/content/44-1.txt'\n",
        "intro = \"Select a menu number : \"\n",
        "file = open(filepath, 'a+')\n",
        "\n",
        "while True:\n",
        "\n",
        "    print(\"--------------------------\")\n",
        "    print(\"1. read\")\n",
        "    print(\"2. write\")\n",
        "    print(\"3. exit\")\n",
        "    print(\"--------------------------\")\n",
        "\n",
        "    menu = int(input(intro))\n",
        "\n",
        "    if menu == 1:\n",
        "        # file.seek(0) 가능\n",
        "        file = open(filepath, 'r')\n",
        "\n",
        "        print(file.read())\n",
        "\n",
        "        file = open(filepath, 'a+')\n",
        "\n",
        "        print()\n",
        "\n",
        "        print(\"--------------------------\")\n",
        "        print(\">> Data read complete. <<\")\n",
        "        print(\"--------------------------\")\n",
        "\n",
        "    elif menu == 2:\n",
        "\n",
        "        text = input('Write a text')\n",
        "\n",
        "        file.write(text + '\\n')\n",
        "\n",
        "        print()\n",
        "\n",
        "        print(\"--------------------------\")\n",
        "        print(\">> Data write complete <<\")\n",
        "        print(\"--------------------------\")\n",
        "\n",
        "    elif menu == 3:\n",
        "        file.close()\n",
        "\n",
        "        print()\n",
        "\n",
        "        print(\"--------------------------\")\n",
        "        print(\">> Program exit. <<\")\n",
        "        print(\"--------------------------\")\n",
        "\n",
        "        break\n"
      ]
    }
  ],
  "metadata": {
    "colab": {
      "provenance": []
    },
    "kernelspec": {
      "display_name": "Python 3 (ipykernel)",
      "language": "python",
      "name": "python3"
    },
    "language_info": {
      "codemirror_mode": {
        "name": "ipython",
        "version": 3
      },
      "file_extension": ".py",
      "mimetype": "text/x-python",
      "name": "python",
      "nbconvert_exporter": "python",
      "pygments_lexer": "ipython3",
      "version": "3.9.12"
    },
    "toc": {
      "base_numbering": 1,
      "nav_menu": {},
      "number_sections": false,
      "sideBar": true,
      "skip_h1_title": false,
      "title_cell": "Table of Contents",
      "title_sidebar": "Contents",
      "toc_cell": false,
      "toc_position": {
        "height": "calc(100% - 180px)",
        "left": "10px",
        "top": "150px",
        "width": "318px"
      },
      "toc_section_display": true,
      "toc_window_display": false
    }
  },
  "nbformat": 4,
  "nbformat_minor": 5
}
