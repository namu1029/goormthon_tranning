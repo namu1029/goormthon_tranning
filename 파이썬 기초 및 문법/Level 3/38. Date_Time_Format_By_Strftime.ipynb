{
  "cells": [
    {
      "cell_type": "markdown",
      "id": "c3a88b92",
      "metadata": {
        "id": "c3a88b92"
      },
      "source": [
        "***\n",
        "## 38. 날씨 및 시간 포맷팅 (Date Time Format By Strftime) 💻\n",
        "***\n",
        "#### **`연습예제`**"
      ]
    },
    {
      "cell_type": "markdown",
      "id": "49b428ae",
      "metadata": {
        "id": "49b428ae"
      },
      "source": [
        "**`datetime 패키지`** `와` **`strftime 함수`** `를 사용해서` **`하단 포멧`** `결과와 ` **`똑같이`** `출력하세요.` **`힌트 링크를 활용하세요.`**\n",
        "\n",
        "```python\n",
        "\n",
        "from datetime import datetime\n",
        "\n",
        "t = datetime.now()\n",
        "\n",
        "# 날짜 및 시간은 실행 시간에 따라 변경\n",
        "\n",
        "\n",
        "# 출력 포맷1\n",
        "# 2022-08-04 12:28:23\n",
        "\n",
        "\n",
        "# 출력 포맷2\n",
        "# 2022-08-04 12:28:23 PM Thursday August\n",
        "\n",
        "\n",
        "# 출력 포맷3\n",
        "# Thursday, August 04, 2022 12:28:57\n",
        "\n",
        "\n",
        "# 출력 포맷4\n",
        "# Thursday, Aug 08/04/22 12:28:57 PM\n",
        "\n",
        "```"
      ]
    },
    {
      "cell_type": "markdown",
      "id": "44d53430",
      "metadata": {
        "id": "44d53430"
      },
      "source": [
        "#### **`코딩영역`**"
      ]
    },
    {
      "cell_type": "code",
      "execution_count": 1,
      "id": "ca1e5a1b",
      "metadata": {
        "colab": {
          "base_uri": "https://localhost:8080/"
        },
        "id": "ca1e5a1b",
        "outputId": "2c9ea5f9-174f-4e56-e9a0-b527d43be68b"
      },
      "outputs": [
        {
          "output_type": "stream",
          "name": "stdout",
          "text": [
            "2024-01-05 03:06:04\n",
            "2024-01-05 03:06:04 AM Friday January\n",
            "Friday, January 05, 2024 03:06:04\n",
            "Friday, Jan 01/05/24 03:06:04 AM\n"
          ]
        }
      ],
      "source": [
        "from datetime import datetime, timezone\n",
        "\n",
        "# 타임존 출력\n",
        "# print(datetime.now(timezone.utc))\n",
        "\n",
        "\n",
        "# 출력1\n",
        "print(datetime.now().strftime('%Y-%m-%d %H:%M:%S'))\n",
        "\n",
        "\n",
        "# 출력2\n",
        "print(datetime.now().strftime('%Y-%m-%d %H:%M:%S %p %A %B'))\n",
        "\n",
        "\n",
        "# 출력3\n",
        "# %T - Current time, equal to % H:% M:% S ,\n",
        "print(datetime.now().strftime('%A, %B %d, %Y %H:%M:%S'))\n",
        "\n",
        "\n",
        "# 출력4\n",
        "print(datetime.now().strftime('%A, %b %x %r')) # %r, %R 비교"
      ]
    },
    {
      "cell_type": "markdown",
      "id": "866ce5b7",
      "metadata": {
        "id": "866ce5b7"
      },
      "source": [
        "***"
      ]
    }
  ],
  "metadata": {
    "kernelspec": {
      "display_name": "Python 3 (ipykernel)",
      "language": "python",
      "name": "python3"
    },
    "language_info": {
      "codemirror_mode": {
        "name": "ipython",
        "version": 3
      },
      "file_extension": ".py",
      "mimetype": "text/x-python",
      "name": "python",
      "nbconvert_exporter": "python",
      "pygments_lexer": "ipython3",
      "version": "3.10.5"
    },
    "toc": {
      "base_numbering": 1,
      "nav_menu": {},
      "number_sections": false,
      "sideBar": true,
      "skip_h1_title": false,
      "title_cell": "Table of Contents",
      "title_sidebar": "Contents",
      "toc_cell": false,
      "toc_position": {
        "height": "calc(100% - 180px)",
        "left": "10px",
        "top": "150px",
        "width": "318px"
      },
      "toc_section_display": true,
      "toc_window_display": false
    },
    "colab": {
      "provenance": []
    }
  },
  "nbformat": 4,
  "nbformat_minor": 5
}