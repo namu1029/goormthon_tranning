{
  "cells": [
    {
      "cell_type": "markdown",
      "id": "c3a88b92",
      "metadata": {
        "id": "c3a88b92"
      },
      "source": [
        "***\n",
        "## 42. 파일 확장자 체크 (File Extension Checker) 💻\n",
        "***\n",
        "#### **`연습예제`**"
      ]
    },
    {
      "cell_type": "markdown",
      "id": "49b428ae",
      "metadata": {
        "id": "49b428ae"
      },
      "source": [
        "`폴더` **`42-1`** `에 존재하는` **`파일`** `중에서` **`확장자`** `가` **`*.py 및 *.png`** `파일을` **`분류하세요.`** **`다양한 방법으로 프로그래밍 해보세요.`**\n",
        "\n",
        "```python\n",
        "\n",
        "# 폴더 경로\n",
        "# ../source/42-1\n",
        "# 조건1 : 파이썬 실행 형식(*.py) 개수 및 파일명\n",
        "# 조건2 : 이미지 파일 형식(*.png) 개수 및 파일명\n",
        "\n",
        "\n",
        "# 출력 결과\n",
        "PNG file info :  ['file10.png', 'file11.png', 'file19.png', 'file6.png']  Count :  4\n",
        "PY file info :  ['file12.py', 'file13.py', 'file17.py', 'file3.py', 'file4.py', 'file8.py']  Count :  6\n",
        "```"
      ]
    },
    {
      "cell_type": "markdown",
      "id": "44d53430",
      "metadata": {
        "id": "44d53430"
      },
      "source": [
        "#### **`코딩영역`**"
      ]
    },
    {
      "cell_type": "code",
      "execution_count": null,
      "id": "9427f511",
      "metadata": {
        "id": "9427f511",
        "outputId": "b0d62648-618d-4e2c-88d8-d3f1695b53fa"
      },
      "outputs": [
        {
          "name": "stdout",
          "output_type": "stream",
          "text": [
            "PNG file info :  ['file10.png', 'file11.png', 'file19.png', 'file6.png']  Count :  4\n",
            "PY file info :  ['file12.py', 'file13.py', 'file17.py', 'file3.py', 'file4.py', 'file8.py']  Count :  6\n",
            "\n",
            "PNG file info :  ['file10.png', 'file11.png', 'file19.png', 'file6.png']  Count :  4\n",
            "PY file info :  ['file12.py', 'file13.py', 'file17.py', 'file3.py', 'file4.py', 'file8.py']  Count :  6\n"
          ]
        }
      ],
      "source": [
        "### 42.File Extension Checker\n",
        "\n",
        "# 방법1\n",
        "import os\n",
        "# files = os.listdir('../source/42-1')\n",
        "\n",
        "# 확인\n",
        "# print(files)\n",
        "\n",
        "png_list1 = []\n",
        "py_list1 = []\n",
        "\n",
        "for f in os.listdir('/content/42-1'):\n",
        "    # print(f)\n",
        "    # 확인1\n",
        "    # print(os.path.splitext(f))\n",
        "\n",
        "    # 확인2\n",
        "    # print(f.split(\".\")[1])\n",
        "\n",
        "    ext = f.split(\".\")[-1]\n",
        "\n",
        "    if ext == 'png':\n",
        "        png_list1.append(f)\n",
        "\n",
        "    if ext == 'py':\n",
        "        py_list1.append(f)\n",
        "\n",
        "print('PNG file info : ', png_list1, \" Count : \", len(png_list1))\n",
        "print('PY file info : ', py_list1, \" Count : \", len(py_list1))\n",
        "\n",
        "print()\n",
        "\n",
        "\n",
        "# 방법2\n",
        "import glob\n",
        "\n",
        "png_list2 = glob.glob1(\"/content/42-1\",\"*.png\")\n",
        "py_list2 = glob.glob1(\"/content/42-1\",\"*.py\")\n",
        "\n",
        "# 확인\n",
        "# print(png_list2)\n",
        "# print(py_list2)\n",
        "\n",
        "print('PNG file info : ', png_list2, \" Count : \", len(png_list2))\n",
        "print('PY file info : ', py_list2, \" Count : \", len(py_list2))"
      ]
    }
  ],
  "metadata": {
    "kernelspec": {
      "display_name": "Python 3 (ipykernel)",
      "language": "python",
      "name": "python3"
    },
    "language_info": {
      "codemirror_mode": {
        "name": "ipython",
        "version": 3
      },
      "file_extension": ".py",
      "mimetype": "text/x-python",
      "name": "python",
      "nbconvert_exporter": "python",
      "pygments_lexer": "ipython3",
      "version": "3.10.5"
    },
    "toc": {
      "base_numbering": 1,
      "nav_menu": {},
      "number_sections": false,
      "sideBar": true,
      "skip_h1_title": false,
      "title_cell": "Table of Contents",
      "title_sidebar": "Contents",
      "toc_cell": false,
      "toc_position": {
        "height": "calc(100% - 180px)",
        "left": "10px",
        "top": "150px",
        "width": "318px"
      },
      "toc_section_display": true,
      "toc_window_display": false
    },
    "colab": {
      "provenance": []
    }
  },
  "nbformat": 4,
  "nbformat_minor": 5
}