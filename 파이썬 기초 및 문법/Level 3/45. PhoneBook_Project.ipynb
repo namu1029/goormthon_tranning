{
  "cells": [
    {
      "cell_type": "markdown",
      "id": "c3a88b92",
      "metadata": {
        "id": "c3a88b92"
      },
      "source": [
        "***\n",
        "## 45. 폰북 프로젝트 (PhoneBook Project) 💻\n",
        "***\n",
        "#### **`연습예제`**"
      ]
    },
    {
      "cell_type": "markdown",
      "id": "49b428ae",
      "metadata": {
        "id": "49b428ae"
      },
      "source": [
        "**`지금 까지 배운 내용을 기반으로`** `아래 조건과 같이` **`전화번호부`** `를` **`while`** `문을 사용후 구현하세요.` **`44번 예제를 참고하세요.`**\n",
        "```python\n",
        "\n",
        "# 구현내용\n",
        "# 조건1 : 전화번호부 확인\n",
        "# 조건2 : 전화번호부 멤버 추가\n",
        "# 조건3 : 전화번호부 멤버 삭제\n",
        "# 조건4 : 프로그램 종료\n",
        "# 조건5 : 전화번호 전체 데이터는 아래와 같이 json 형식으로 가정\n",
        "# 조건6 : (가능한경우) 파일 쓰기, 읽기 기능 추가\n",
        "\n",
        "\n",
        "# 프로그램 구현 화면\n",
        "# 강의 영상 참조\n",
        "\n",
        "# 기본 제공 데이터\n",
        "phonebook = {\n",
        "                0: {'Name': 'Kim', 'Phone': '45648733'},\n",
        "                1: {'Name': 'Lee', 'Phone': '89376333'},\n",
        "                2: {'Name': 'Park', 'Phone': '36457818'},\n",
        "                3: {'Name': 'Chung', 'Phone': '76891234'},\n",
        "                4: {'Name': 'Choi', 'Phone': '67451237'}\n",
        "            }\n",
        "```"
      ]
    },
    {
      "cell_type": "markdown",
      "id": "44d53430",
      "metadata": {
        "id": "44d53430"
      },
      "source": [
        "#### **`코딩영역`**"
      ]
    },
    {
      "cell_type": "code",
      "execution_count": null,
      "id": "9427f511",
      "metadata": {
        "id": "9427f511",
        "outputId": "0a2de72f-8f60-4ffa-cf25-1be4967d8730"
      },
      "outputs": [
        {
          "name": "stdout",
          "output_type": "stream",
          "text": [
            "\n",
            "----MAIN MENU----\n",
            "1: List phonebook\n",
            "2: Add a new member\n",
            "3: Delete a member\n",
            "4: Program exit \n",
            "Please enter your choice: 4\n",
            "# Exit!\n"
          ]
        },
        {
          "data": {
            "text/plain": [
              "False"
            ]
          },
          "execution_count": 4,
          "metadata": {},
          "output_type": "execute_result"
        }
      ],
      "source": [
        "\"\"\" phone book with example members. \"\"\"\n",
        "phonebook = {\n",
        "                0: {'Name': 'Kim', 'Phone': '45648733'},\n",
        "                1: {'Name': 'Lee', 'Phone': '89376333'},\n",
        "                2: {'Name': 'Park', 'Phone': '36457818'},\n",
        "                3: {'Name': 'Chung', 'Phone': '76891234'},\n",
        "                4: {'Name': 'Choi', 'Phone': '67451237'}\n",
        "            }\n",
        "\n",
        "\n",
        "def list_phonebook(d):\n",
        "    \"\"\" List member in phone book. \"\"\"\n",
        "\n",
        "    for pid in d:\n",
        "        print('\\nPID:', pid + 1)\n",
        "        for p_info in d[pid]:\n",
        "            print(p_info + ':', d[pid][p_info])\n",
        "\n",
        "\n",
        "def add_member(d):\n",
        "    \"\"\" Add a new member to the phone book.\"\"\"\n",
        "\n",
        "    print(\"\\nEnter the information of the member\")\n",
        "\n",
        "    name = input('Name: ')\n",
        "    phone = input('Phone: ')\n",
        "\n",
        "    name_check = False\n",
        "\n",
        "    for pid in d:\n",
        "        if name == d[pid].get('Name'):\n",
        "            name_check = True\n",
        "\n",
        "    if name_check is True:\n",
        "        print('\\n# The member is already in the phone book')\n",
        "    else:\n",
        "        d[len(d)] = {'Name': name, 'Phone': phone}\n",
        "\n",
        "        print('\\n# The phone number has been added to the phone book')\n",
        "\n",
        "    return d\n",
        "\n",
        "\n",
        "def delete_member(d):\n",
        "    \"\"\" Delete a member from the phone book. \"\"\"\n",
        "\n",
        "    print(\"\\nEnter the name\")\n",
        "\n",
        "    name = input('name: ')\n",
        "\n",
        "    for pid in d:\n",
        "        if name == d[pid].get('Name'):\n",
        "            del d[pid]\n",
        "            print('\\n# The member has been deleted')\n",
        "            return d\n",
        "\n",
        "    print('\\n# The member is not in the phone book')\n",
        "\n",
        "\n",
        "def mainmenu():\n",
        "    \"\"\" Main function\"\"\"\n",
        "\n",
        "    while True:\n",
        "        menu = input(\"\"\"\n",
        "----MAIN MENU----\n",
        "1: List phonebook\n",
        "2: Add a new member\n",
        "3: Delete a member\n",
        "4: Program exit\n",
        "Please enter your choice: \"\"\")\n",
        "\n",
        "        if menu == '1':\n",
        "            list_phonebook(phonebook)\n",
        "        elif menu == '2':\n",
        "            add_member(phonebook)\n",
        "        elif menu == '3':\n",
        "            delete_member(phonebook)\n",
        "        elif menu == '4':\n",
        "            print('# Exit!')\n",
        "            return False # break\n",
        "        else:\n",
        "            print('\\n Menu cannot be found')\n",
        "\n",
        "mainmenu()"
      ]
    }
  ],
  "metadata": {
    "kernelspec": {
      "display_name": "Python 3 (ipykernel)",
      "language": "python",
      "name": "python3"
    },
    "language_info": {
      "codemirror_mode": {
        "name": "ipython",
        "version": 3
      },
      "file_extension": ".py",
      "mimetype": "text/x-python",
      "name": "python",
      "nbconvert_exporter": "python",
      "pygments_lexer": "ipython3",
      "version": "3.10.5"
    },
    "toc": {
      "base_numbering": 1,
      "nav_menu": {},
      "number_sections": false,
      "sideBar": true,
      "skip_h1_title": false,
      "title_cell": "Table of Contents",
      "title_sidebar": "Contents",
      "toc_cell": false,
      "toc_position": {
        "height": "calc(100% - 180px)",
        "left": "10px",
        "top": "150px",
        "width": "318px"
      },
      "toc_section_display": true,
      "toc_window_display": false
    },
    "colab": {
      "provenance": []
    }
  },
  "nbformat": 4,
  "nbformat_minor": 5
}