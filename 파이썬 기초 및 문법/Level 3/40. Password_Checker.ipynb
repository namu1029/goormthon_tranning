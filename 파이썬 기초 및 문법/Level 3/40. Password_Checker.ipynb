{
  "cells": [
    {
      "cell_type": "markdown",
      "id": "c3a88b92",
      "metadata": {
        "id": "c3a88b92"
      },
      "source": [
        "***\n",
        "## 40. 비밀번호 체크 (Password Checker) 💻\n",
        "***\n",
        "#### **`연습예제`**"
      ]
    },
    {
      "cell_type": "markdown",
      "id": "49b428ae",
      "metadata": {
        "id": "49b428ae"
      },
      "source": [
        "`아래` **`조건`** `과 같이` **`사용자 입력 문자열(비밀번호)`** `를` **`체크하세요.`** **`아래 조건 참조`** **`while, input 사용`**\n",
        "\n",
        "```python\n",
        "\n",
        "# 사용자 비밀번호 입력\n",
        "# 조건1 : 비밀번호는 반드시 8자 이상이어야 합니다.\n",
        "# 조건2 : 반드시 1개 이상의 대문자는 포함되어 있어야 합니다.\n",
        "# 조건3 : 반드시 1개 이상의 숫자를 포함해야 합니다.\n",
        "\n",
        "# 사용자 입력1\n",
        "password1 = input() # a1234!!\n",
        "\n",
        "# 출력 결과1\n",
        "# 8자 이하, 대문자 미포함\n",
        "비밀번호 조건이 맞지 않습니다.\n",
        "\n",
        "\n",
        "# 사용자 입력2\n",
        "password2 = input() # A777abcd!\n",
        "\n",
        "# 출력 결과2\n",
        "비밀번호 형식이 맞습니다.\n",
        "```"
      ]
    },
    {
      "cell_type": "markdown",
      "id": "44d53430",
      "metadata": {
        "id": "44d53430"
      },
      "source": [
        "#### **`코딩영역`**"
      ]
    },
    {
      "cell_type": "code",
      "execution_count": 1,
      "id": "ca1e5a1b",
      "metadata": {
        "colab": {
          "base_uri": "https://localhost:8080/"
        },
        "id": "ca1e5a1b",
        "outputId": "fd768388-581f-45a2-9b86-50903d57cef0"
      },
      "outputs": [
        {
          "output_type": "stream",
          "name": "stdout",
          "text": [
            "Enter password: abcc1234\n",
            "\n",
            "아래와 같이 비밀번호 조건이 맞지 않습니다.\n",
            "--> 최소 1개 이상의 대문자가 포함되야 해요.\n",
            "Enter password: ABC1234\n",
            "\n",
            "아래와 같이 비밀번호 조건이 맞지 않습니다.\n",
            "--> 패스워드 길이는 8자 이상 입력해 주세요.\n",
            "Enter password: ABCD1234\n",
            "\n",
            "비밀번호 형식이 맞습니다.\n"
          ]
        }
      ],
      "source": [
        "while True:\n",
        "    results = []\n",
        "    psw = input(\"Enter password: \")\n",
        "\n",
        "    print()\n",
        "\n",
        "    if not any(i.isdigit() for i in psw):\n",
        "        results.append(\"최소 1개 이상의 숫자가 포함되야 해요.\")\n",
        "    if not any(i.isupper() for i in psw):\n",
        "        results.append(\"최소 1개 이상의 대문자가 포함되야 해요.\")\n",
        "    if len(psw) < 8:\n",
        "        results.append(\"패스워드 길이는 8자 이상 입력해 주세요.\")\n",
        "    if len(results) == 0: # not results\n",
        "        print(\"비밀번호 형식이 맞습니다.\")\n",
        "        break\n",
        "    else:\n",
        "        print(\"아래와 같이 비밀번호 조건이 맞지 않습니다.\")\n",
        "        for txt in results:\n",
        "            print(\"-->\", txt)"
      ]
    },
    {
      "cell_type": "markdown",
      "id": "866ce5b7",
      "metadata": {
        "id": "866ce5b7"
      },
      "source": [
        "***"
      ]
    }
  ],
  "metadata": {
    "kernelspec": {
      "display_name": "Python 3 (ipykernel)",
      "language": "python",
      "name": "python3"
    },
    "language_info": {
      "codemirror_mode": {
        "name": "ipython",
        "version": 3
      },
      "file_extension": ".py",
      "mimetype": "text/x-python",
      "name": "python",
      "nbconvert_exporter": "python",
      "pygments_lexer": "ipython3",
      "version": "3.10.5"
    },
    "toc": {
      "base_numbering": 1,
      "nav_menu": {},
      "number_sections": false,
      "sideBar": true,
      "skip_h1_title": false,
      "title_cell": "Table of Contents",
      "title_sidebar": "Contents",
      "toc_cell": false,
      "toc_position": {
        "height": "calc(100% - 180px)",
        "left": "10px",
        "top": "150px",
        "width": "318px"
      },
      "toc_section_display": true,
      "toc_window_display": false
    },
    "colab": {
      "provenance": []
    }
  },
  "nbformat": 4,
  "nbformat_minor": 5
}