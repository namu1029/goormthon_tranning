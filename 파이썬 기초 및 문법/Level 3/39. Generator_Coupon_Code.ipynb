{
  "cells": [
    {
      "cell_type": "markdown",
      "id": "c3a88b92",
      "metadata": {
        "id": "c3a88b92"
      },
      "source": [
        "***\n",
        "## 39. 쿠폰 코드 생성 (Generator Coupon Code) 💻\n",
        "***\n",
        "#### **`연습예제`**"
      ]
    },
    {
      "cell_type": "markdown",
      "id": "49b428ae",
      "metadata": {
        "id": "49b428ae"
      },
      "source": [
        "`주어진` **`문자열`** `에서` **`6자리`** `의` **`무작위의 코드`** `를 ` **`중복없이 5개`** `생성하세요.(리스트)` **`출력 결과를 확인하세요.`**\n",
        "\n",
        "```python\n",
        "\n",
        "import random\n",
        "\n",
        "# 문자열 선언\n",
        "characters = \"abcdefghijklmnopqrstuvwxyz01234567890ABCDEFGHIJKLMNOPQRSTUVWXYZ!@#$%^&*()?\"\n",
        "\n",
        "# 출력 결과\n",
        "['ihv)jW', 'KFGN@o', 'L?w0yv', 'Y4hJ$O', 'K*bypg']\n",
        "\n",
        "```"
      ]
    },
    {
      "cell_type": "markdown",
      "id": "44d53430",
      "metadata": {
        "id": "44d53430"
      },
      "source": [
        "#### **`코딩영역`**"
      ]
    },
    {
      "cell_type": "code",
      "execution_count": 1,
      "id": "ca1e5a1b",
      "metadata": {
        "colab": {
          "base_uri": "https://localhost:8080/"
        },
        "id": "ca1e5a1b",
        "outputId": "43a7d338-7551-46f5-f6d0-f8200e1ec130"
      },
      "outputs": [
        {
          "name": "stdout",
          "output_type": "stream",
          "text": [
            "['JXw5LM', 'N7Jxs$', '^3#pFT', '7eUERL', 'kdmjWe']\n"
          ]
        }
      ],
      "source": [
        "import random\n",
        "from datetime import datetime\n",
        "\n",
        "# 다양한 방식으로 프로그래밍 가능\n",
        "\n",
        "# xorshift+\n",
        "# 선형합동법\n",
        "# CRC-32 encoding\n",
        "\n",
        "# 중복 제거에 대한 고려\n",
        "# 1.seed 사용\n",
        "# 2.set() 사용\n",
        "# 3.반복문 체크\n",
        "\n",
        "# 방법1\n",
        "def generate_coupon_code(n):\n",
        "\n",
        "    characters = \"abcdefghijklmnopqrstuvwxyz01234567890ABCDEFGHIJKLMNOPQRSTUVWXYZ!@#$%^&*()?\"\n",
        "    code_list = []\n",
        "\n",
        "    # python 3.9 이상부터는 seed 사용 확인(None)\n",
        "    # https://docs.python.org/3/library/random.html#bookkeeping-functions\n",
        "    random.seed(None) # datetime.now()\n",
        "\n",
        "    for i in range(0, n):\n",
        "        chosen = random.sample(characters, 6)\n",
        "        code = \"\".join(chosen)\n",
        "        code_list.append(code)\n",
        "\n",
        "    return code_list\n",
        "\n",
        "\n",
        "# 출력\n",
        "print(generate_coupon_code(5))"
      ]
    },
    {
      "cell_type": "markdown",
      "id": "866ce5b7",
      "metadata": {
        "id": "866ce5b7"
      },
      "source": [
        "***"
      ]
    }
  ],
  "metadata": {
    "colab": {
      "provenance": []
    },
    "kernelspec": {
      "display_name": "Python 3 (ipykernel)",
      "language": "python",
      "name": "python3"
    },
    "language_info": {
      "codemirror_mode": {
        "name": "ipython",
        "version": 3
      },
      "file_extension": ".py",
      "mimetype": "text/x-python",
      "name": "python",
      "nbconvert_exporter": "python",
      "pygments_lexer": "ipython3",
      "version": "3.9.12"
    },
    "toc": {
      "base_numbering": 1,
      "nav_menu": {},
      "number_sections": false,
      "sideBar": true,
      "skip_h1_title": false,
      "title_cell": "Table of Contents",
      "title_sidebar": "Contents",
      "toc_cell": false,
      "toc_position": {
        "height": "calc(100% - 180px)",
        "left": "10px",
        "top": "150px",
        "width": "318px"
      },
      "toc_section_display": true,
      "toc_window_display": false
    }
  },
  "nbformat": 4,
  "nbformat_minor": 5
}
